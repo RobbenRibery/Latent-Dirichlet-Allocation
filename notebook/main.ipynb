{
 "cells": [
  {
   "cell_type": "code",
   "execution_count": 130,
   "metadata": {},
   "outputs": [
    {
     "name": "stdout",
     "output_type": "stream",
     "text": [
      "The autoreload extension is already loaded. To reload it, use:\n",
      "  %reload_ext autoreload\n"
     ]
    }
   ],
   "source": [
    "%load_ext autoreload\n",
    "%autoreload 2\n",
    "import sys \n",
    "if '/Users/ericliu/Desktop/Latent-Dirichilet-Allocation' not in sys.path: \n",
    "    sys.path.append('/Users/ericliu/Desktop/Latent-Dirichilet-Allocation')\n",
    "import torch as tr \n",
    "import numpy as np "
   ]
  },
  {
   "cell_type": "code",
   "execution_count": 153,
   "metadata": {},
   "outputs": [],
   "source": [
    "from src.lda_model import LDASmoothed \n",
    "from src.utils import get_vocab_from_docs, get_np_wct \n",
    "from pprint import pprint \n",
    "\n",
    "import copy "
   ]
  },
  {
   "cell_type": "code",
   "execution_count": 138,
   "metadata": {},
   "outputs": [],
   "source": [
    "num_topics = 3 "
   ]
  },
  {
   "cell_type": "code",
   "execution_count": 149,
   "metadata": {},
   "outputs": [
    {
     "name": "stdout",
     "output_type": "stream",
     "text": [
      "[['My', 'name', 'is', 'tuo', 'tuo', '.'], ['tuo', 'tuo', 'is', 'cute', '!'], ['Tuo', 'tuo', 'likes', 'to', 'poo', 'a', 'lot', '!'], ['mama', 'bear', 'very', 'tuo', '!']]\n"
     ]
    }
   ],
   "source": [
    "docs = [\n",
    "    ['My name is tuo tuo .'],\n",
    "    ['tuo tuo is cute !'],\n",
    "    ['Tuo tuo likes to poo a lot !'],\n",
    "    ['mama bear very tuo !']\n",
    "]\n",
    "\n",
    "docs = [doc[0].split(' ') for doc in docs]\n",
    "\n",
    "print(docs)"
   ]
  },
  {
   "cell_type": "code",
   "execution_count": 150,
   "metadata": {},
   "outputs": [
    {
     "data": {
      "text/plain": [
       "{'My': [1, 0, 0, 0],\n",
       " 'name': [1, 0, 0, 0],\n",
       " 'is': [1, 1, 0, 0],\n",
       " 'tuo': [2, 2, 1, 1],\n",
       " '.': [1, 0, 0, 0],\n",
       " 'cute': [0, 1, 0, 0],\n",
       " '!': [0, 1, 1, 1],\n",
       " 'Tuo': [0, 0, 1, 0],\n",
       " 'likes': [0, 0, 1, 0],\n",
       " 'to': [0, 0, 1, 0],\n",
       " 'poo': [0, 0, 1, 0],\n",
       " 'a': [0, 0, 1, 0],\n",
       " 'lot': [0, 0, 1, 0],\n",
       " 'mama': [0, 0, 0, 1],\n",
       " 'bear': [0, 0, 0, 1],\n",
       " 'very': [0, 0, 0, 1]}"
      ]
     },
     "execution_count": 150,
     "metadata": {},
     "output_type": "execute_result"
    }
   ],
   "source": [
    "wct_dict = get_vocab_from_docs(docs)\n",
    "wct_dict "
   ]
  },
  {
   "cell_type": "code",
   "execution_count": 151,
   "metadata": {},
   "outputs": [
    {
     "name": "stdout",
     "output_type": "stream",
     "text": [
      "[[1. 0. 0. 0.]\n",
      " [1. 0. 0. 0.]\n",
      " [1. 1. 0. 0.]\n",
      " [2. 2. 1. 1.]\n",
      " [1. 0. 0. 0.]\n",
      " [0. 1. 0. 0.]\n",
      " [0. 1. 1. 1.]\n",
      " [0. 0. 1. 0.]\n",
      " [0. 0. 1. 0.]\n",
      " [0. 0. 1. 0.]\n",
      " [0. 0. 1. 0.]\n",
      " [0. 0. 1. 0.]\n",
      " [0. 0. 1. 0.]\n",
      " [0. 0. 0. 1.]\n",
      " [0. 0. 0. 1.]\n",
      " [0. 0. 0. 1.]]\n",
      "{'!': 6,\n",
      " '.': 4,\n",
      " 'My': 0,\n",
      " 'Tuo': 7,\n",
      " 'a': 11,\n",
      " 'bear': 14,\n",
      " 'cute': 5,\n",
      " 'is': 2,\n",
      " 'likes': 8,\n",
      " 'lot': 12,\n",
      " 'mama': 13,\n",
      " 'name': 1,\n",
      " 'poo': 10,\n",
      " 'to': 9,\n",
      " 'tuo': 3,\n",
      " 'very': 15}\n"
     ]
    }
   ],
   "source": [
    "wct_array, w_2_idx = get_np_wct(wct_dict, docs)\n",
    "\n",
    "print(wct_array)\n",
    "pprint(w_2_idx)"
   ]
  },
  {
   "cell_type": "code",
   "execution_count": 152,
   "metadata": {},
   "outputs": [
    {
     "data": {
      "text/plain": [
       "array([[1.0, 0.0, 0.0, 0.0],\n",
       "       [1.0, 0.0, 0.0, 0.0],\n",
       "       [1.0, 1.0, 0.0, 0.0],\n",
       "       [2.0, 2.0, 1.0, 1.0],\n",
       "       [1.0, 0.0, 0.0, 0.0],\n",
       "       [0.0, 1.0, 0.0, 0.0],\n",
       "       [0.0, 1.0, 1.0, 1.0],\n",
       "       [0.0, 0.0, 1.0, 0.0],\n",
       "       [0.0, 0.0, 1.0, 0.0],\n",
       "       [0.0, 0.0, 1.0, 0.0],\n",
       "       [0.0, 0.0, 1.0, 0.0],\n",
       "       [0.0, 0.0, 1.0, 0.0],\n",
       "       [0.0, 0.0, 1.0, 0.0],\n",
       "       [0.0, 0.0, 0.0, 1.0],\n",
       "       [0.0, 0.0, 0.0, 1.0],\n",
       "       [0.0, 0.0, 0.0, 1.0]], dtype=object)"
      ]
     },
     "execution_count": 152,
     "metadata": {},
     "output_type": "execute_result"
    }
   ],
   "source": [
    "wct_array.astype(object)"
   ]
  },
  {
   "cell_type": "code",
   "execution_count": 155,
   "metadata": {},
   "outputs": [
    {
     "name": "stdout",
     "output_type": "stream",
     "text": [
      "[[0, 1, 2, 3, 3, 4], [3, 3, 2, 5, 6], [7, 3, 8, 9, 10, 11, 12, 6], [13, 14, 15, 3, 6]]\n",
      "[['My', 'name', 'is', 'tuo', 'tuo', '.'], ['tuo', 'tuo', 'is', 'cute', '!'], ['Tuo', 'tuo', 'likes', 'to', 'poo', 'a', 'lot', '!'], ['mama', 'bear', 'very', 'tuo', '!']]\n"
     ]
    }
   ],
   "source": [
    "docs_in_vocab_indx = copy.deepcopy(docs)\n",
    "#print(docs_in_vocab_indx)\n",
    "\n",
    "for id, d in enumerate(docs): \n",
    "\n",
    "    for n in range(len(d)): \n",
    "\n",
    "        docs_in_vocab_indx[id][n] = w_2_idx[docs[id][n]]\n",
    "\n",
    "print(docs_in_vocab_indx)\n",
    "print(docs)\n",
    "# docs_in_idx = np.array(docs_in_vocab_indx)\n",
    "# docs_in_idx"
   ]
  },
  {
   "attachments": {},
   "cell_type": "markdown",
   "metadata": {},
   "source": [
    "- construct  new phi "
   ]
  },
  {
   "cell_type": "code",
   "execution_count": 161,
   "metadata": {},
   "outputs": [
    {
     "data": {
      "text/plain": [
       "[['My', 'name', 'is', 'tuo', 'tuo', '.'],\n",
       " ['tuo', 'tuo', 'is', 'cute', '!'],\n",
       " ['Tuo', 'tuo', 'likes', 'to', 'poo', 'a', 'lot', '!'],\n",
       " ['mama', 'bear', 'very', 'tuo', '!']]"
      ]
     },
     "execution_count": 161,
     "metadata": {},
     "output_type": "execute_result"
    }
   ],
   "source": [
    "docs  "
   ]
  },
  {
   "cell_type": "code",
   "execution_count": 157,
   "metadata": {},
   "outputs": [
    {
     "data": {
      "text/plain": [
       "tensor([[[0.3333, 0.3333, 0.3333],\n",
       "         [0.3333, 0.3333, 0.3333],\n",
       "         [0.3333, 0.3333, 0.3333],\n",
       "         [0.3333, 0.3333, 0.3333],\n",
       "         [0.3333, 0.3333, 0.3333],\n",
       "         [0.0000, 0.0000, 0.0000],\n",
       "         [0.0000, 0.0000, 0.0000],\n",
       "         [0.0000, 0.0000, 0.0000],\n",
       "         [0.0000, 0.0000, 0.0000],\n",
       "         [0.0000, 0.0000, 0.0000],\n",
       "         [0.0000, 0.0000, 0.0000],\n",
       "         [0.0000, 0.0000, 0.0000],\n",
       "         [0.0000, 0.0000, 0.0000],\n",
       "         [0.0000, 0.0000, 0.0000],\n",
       "         [0.0000, 0.0000, 0.0000],\n",
       "         [0.0000, 0.0000, 0.0000]],\n",
       "\n",
       "        [[0.0000, 0.0000, 0.0000],\n",
       "         [0.0000, 0.0000, 0.0000],\n",
       "         [0.3333, 0.3333, 0.3333],\n",
       "         [0.3333, 0.3333, 0.3333],\n",
       "         [0.0000, 0.0000, 0.0000],\n",
       "         [0.3333, 0.3333, 0.3333],\n",
       "         [0.3333, 0.3333, 0.3333],\n",
       "         [0.0000, 0.0000, 0.0000],\n",
       "         [0.0000, 0.0000, 0.0000],\n",
       "         [0.0000, 0.0000, 0.0000],\n",
       "         [0.0000, 0.0000, 0.0000],\n",
       "         [0.0000, 0.0000, 0.0000],\n",
       "         [0.0000, 0.0000, 0.0000],\n",
       "         [0.0000, 0.0000, 0.0000],\n",
       "         [0.0000, 0.0000, 0.0000],\n",
       "         [0.0000, 0.0000, 0.0000]],\n",
       "\n",
       "        [[0.0000, 0.0000, 0.0000],\n",
       "         [0.0000, 0.0000, 0.0000],\n",
       "         [0.0000, 0.0000, 0.0000],\n",
       "         [0.3333, 0.3333, 0.3333],\n",
       "         [0.0000, 0.0000, 0.0000],\n",
       "         [0.0000, 0.0000, 0.0000],\n",
       "         [0.3333, 0.3333, 0.3333],\n",
       "         [0.3333, 0.3333, 0.3333],\n",
       "         [0.3333, 0.3333, 0.3333],\n",
       "         [0.3333, 0.3333, 0.3333],\n",
       "         [0.3333, 0.3333, 0.3333],\n",
       "         [0.3333, 0.3333, 0.3333],\n",
       "         [0.3333, 0.3333, 0.3333],\n",
       "         [0.0000, 0.0000, 0.0000],\n",
       "         [0.0000, 0.0000, 0.0000],\n",
       "         [0.0000, 0.0000, 0.0000]],\n",
       "\n",
       "        [[0.0000, 0.0000, 0.0000],\n",
       "         [0.0000, 0.0000, 0.0000],\n",
       "         [0.0000, 0.0000, 0.0000],\n",
       "         [0.3333, 0.3333, 0.3333],\n",
       "         [0.0000, 0.0000, 0.0000],\n",
       "         [0.0000, 0.0000, 0.0000],\n",
       "         [0.3333, 0.3333, 0.3333],\n",
       "         [0.0000, 0.0000, 0.0000],\n",
       "         [0.0000, 0.0000, 0.0000],\n",
       "         [0.0000, 0.0000, 0.0000],\n",
       "         [0.0000, 0.0000, 0.0000],\n",
       "         [0.0000, 0.0000, 0.0000],\n",
       "         [0.0000, 0.0000, 0.0000],\n",
       "         [0.3333, 0.3333, 0.3333],\n",
       "         [0.3333, 0.3333, 0.3333],\n",
       "         [0.3333, 0.3333, 0.3333]]])"
      ]
     },
     "execution_count": 157,
     "metadata": {},
     "output_type": "execute_result"
    }
   ],
   "source": [
    "phi = tr.zeros(len(docs),wct_array.shape[0],num_topics)\n",
    "\n",
    "for id, d in enumerate(docs): \n",
    "\n",
    "    for word in d: \n",
    "\n",
    "        v = w_2_idx[word]\n",
    "\n",
    "        phi[id][v] = 1/num_topics \n",
    "\n",
    "phi "
   ]
  },
  {
   "cell_type": "code",
   "execution_count": 206,
   "metadata": {},
   "outputs": [
    {
     "name": "stdout",
     "output_type": "stream",
     "text": [
      "Word mapping to vocab index is: \n",
      "{'!': 6,\n",
      " '.': 4,\n",
      " 'My': 0,\n",
      " 'Tuo': 7,\n",
      " 'a': 11,\n",
      " 'bear': 14,\n",
      " 'cute': 5,\n",
      " 'is': 2,\n",
      " 'likes': 8,\n",
      " 'lot': 12,\n",
      " 'mama': 13,\n",
      " 'name': 1,\n",
      " 'poo': 10,\n",
      " 'to': 9,\n",
      " 'tuo': 3,\n",
      " 'very': 15}\n",
      "Topic Dirichlet Prior, Alpha\n",
      "torch.Size([3])\n",
      "tensor([1.0995, 1.1475, 0.9861], dtype=torch.float64)\n",
      "\n",
      "Word Dirichlet Prior, Eta\n",
      "torch.Size([16])\n",
      "tensor([1., 1., 1., 1., 1., 1., 1., 1., 1., 1., 1., 1., 1., 1., 1., 1.],\n",
      "       dtype=torch.float64)\n",
      "\n",
      "Var Inf - Word Dirichlet prior, Lambda\n",
      "torch.Size([3, 16])\n",
      "tensor([[1., 1., 1., 1., 1., 1., 1., 1., 1., 1., 1., 1., 1., 1., 1., 1.],\n",
      "        [1., 1., 1., 1., 1., 1., 1., 1., 1., 1., 1., 1., 1., 1., 1., 1.],\n",
      "        [1., 1., 1., 1., 1., 1., 1., 1., 1., 1., 1., 1., 1., 1., 1., 1.]],\n",
      "       dtype=torch.float64)\n",
      "\n",
      "Var Inf - Topic Dirichlet prior, Gamma\n",
      "torch.Size([4, 3])\n",
      "tensor([[6.4329, 6.4808, 6.3195],\n",
      "        [6.4329, 6.4808, 6.3195],\n",
      "        [6.4329, 6.4808, 6.3195],\n",
      "        [6.4329, 6.4808, 6.3195]], dtype=torch.float64)\n",
      "\n",
      "Var -Inf - Word wise Topic Multinomial/Categorical, Phi\n",
      "torch.Size([4, 16, 3])\n",
      "tensor([[[0.3333, 0.3333, 0.3333],\n",
      "         [0.3333, 0.3333, 0.3333],\n",
      "         [0.3333, 0.3333, 0.3333],\n",
      "         [0.3333, 0.3333, 0.3333],\n",
      "         [0.3333, 0.3333, 0.3333],\n",
      "         [0.0000, 0.0000, 0.0000],\n",
      "         [0.0000, 0.0000, 0.0000],\n",
      "         [0.0000, 0.0000, 0.0000],\n",
      "         [0.0000, 0.0000, 0.0000],\n",
      "         [0.0000, 0.0000, 0.0000],\n",
      "         [0.0000, 0.0000, 0.0000],\n",
      "         [0.0000, 0.0000, 0.0000],\n",
      "         [0.0000, 0.0000, 0.0000],\n",
      "         [0.0000, 0.0000, 0.0000],\n",
      "         [0.0000, 0.0000, 0.0000],\n",
      "         [0.0000, 0.0000, 0.0000]],\n",
      "\n",
      "        [[0.0000, 0.0000, 0.0000],\n",
      "         [0.0000, 0.0000, 0.0000],\n",
      "         [0.3333, 0.3333, 0.3333],\n",
      "         [0.3333, 0.3333, 0.3333],\n",
      "         [0.0000, 0.0000, 0.0000],\n",
      "         [0.3333, 0.3333, 0.3333],\n",
      "         [0.3333, 0.3333, 0.3333],\n",
      "         [0.0000, 0.0000, 0.0000],\n",
      "         [0.0000, 0.0000, 0.0000],\n",
      "         [0.0000, 0.0000, 0.0000],\n",
      "         [0.0000, 0.0000, 0.0000],\n",
      "         [0.0000, 0.0000, 0.0000],\n",
      "         [0.0000, 0.0000, 0.0000],\n",
      "         [0.0000, 0.0000, 0.0000],\n",
      "         [0.0000, 0.0000, 0.0000],\n",
      "         [0.0000, 0.0000, 0.0000]],\n",
      "\n",
      "        [[0.0000, 0.0000, 0.0000],\n",
      "         [0.0000, 0.0000, 0.0000],\n",
      "         [0.0000, 0.0000, 0.0000],\n",
      "         [0.3333, 0.3333, 0.3333],\n",
      "         [0.0000, 0.0000, 0.0000],\n",
      "         [0.0000, 0.0000, 0.0000],\n",
      "         [0.3333, 0.3333, 0.3333],\n",
      "         [0.3333, 0.3333, 0.3333],\n",
      "         [0.3333, 0.3333, 0.3333],\n",
      "         [0.3333, 0.3333, 0.3333],\n",
      "         [0.3333, 0.3333, 0.3333],\n",
      "         [0.3333, 0.3333, 0.3333],\n",
      "         [0.3333, 0.3333, 0.3333],\n",
      "         [0.0000, 0.0000, 0.0000],\n",
      "         [0.0000, 0.0000, 0.0000],\n",
      "         [0.0000, 0.0000, 0.0000]],\n",
      "\n",
      "        [[0.0000, 0.0000, 0.0000],\n",
      "         [0.0000, 0.0000, 0.0000],\n",
      "         [0.0000, 0.0000, 0.0000],\n",
      "         [0.3333, 0.3333, 0.3333],\n",
      "         [0.0000, 0.0000, 0.0000],\n",
      "         [0.0000, 0.0000, 0.0000],\n",
      "         [0.3333, 0.3333, 0.3333],\n",
      "         [0.0000, 0.0000, 0.0000],\n",
      "         [0.0000, 0.0000, 0.0000],\n",
      "         [0.0000, 0.0000, 0.0000],\n",
      "         [0.0000, 0.0000, 0.0000],\n",
      "         [0.0000, 0.0000, 0.0000],\n",
      "         [0.0000, 0.0000, 0.0000],\n",
      "         [0.3333, 0.3333, 0.3333],\n",
      "         [0.3333, 0.3333, 0.3333],\n",
      "         [0.3333, 0.3333, 0.3333]]], dtype=torch.float64)\n"
     ]
    }
   ],
   "source": [
    "lda = LDASmoothed(\n",
    "    docs,\n",
    "    num_topics, \n",
    "    wct_dict, \n",
    "    word_ct_array = wct_array\n",
    ")\n",
    "#LDASmoothed(docs, 3, wct_dict)"
   ]
  },
  {
   "cell_type": "code",
   "execution_count": 207,
   "metadata": {},
   "outputs": [
    {
     "name": "stdout",
     "output_type": "stream",
     "text": [
      "Iteration 1, Delta Gamma = inf, the ELBO is -85.3167682910283\n",
      "Iteration 2, Delta Gamma = 11.633565808464509, the ELBO is -78.46220984613231\n",
      "Iteration 3, Delta Gamma = 0.17422713065583262, the ELBO is -78.44646623595918\n",
      "Iteration 4, Delta Gamma = 0.16725005918521554, the ELBO is -78.43053713910234\n",
      "Iteration 5, Delta Gamma = 0.16533217320844876, the ELBO is -78.41363504566709\n",
      "Iteration 6, Delta Gamma = 0.16616512957645269, the ELBO is -78.39541623360593\n",
      "Iteration 7, Delta Gamma = 0.16845263989595088, the ELBO is -78.37572008238024\n",
      "Iteration 8, Delta Gamma = 0.1713991074204745, the ELBO is -78.35452239559245\n",
      "Iteration 9, Delta Gamma = 0.17457291165899758, the ELBO is -78.3319225972808\n",
      "Iteration 10, Delta Gamma = 0.17793194844562044, the ELBO is -78.30811029518873\n",
      "Iteration 11, Delta Gamma = 0.18190264597092182, the ELBO is -78.28328585044902\n",
      "Iteration 12, Delta Gamma = 0.18740208437246128, the ELBO is -78.2575319839835\n",
      "Iteration 13, Delta Gamma = 0.19568400614098747, the ELBO is -78.23066129492582\n",
      "Iteration 14, Delta Gamma = 0.20794741988743645, the ELBO is -78.20208999648044\n",
      "Iteration 15, Delta Gamma = 0.22480611107339066, the ELBO is -78.17079871455653\n",
      "Iteration 16, Delta Gamma = 0.245856414905709, the ELBO is -78.13543344215216\n",
      "Iteration 17, Delta Gamma = 0.26951245082179714, the ELBO is -78.09458090258308\n",
      "Iteration 18, Delta Gamma = 0.29308807032957795, the ELBO is -78.04722347085706\n",
      "Iteration 19, Delta Gamma = 0.3130625498410938, the ELBO is -77.9933178728877\n",
      "Iteration 20, Delta Gamma = 0.32558039704924197, the ELBO is -77.93432440945749\n",
      "Iteration 21, Delta Gamma = 0.3272719772739889, the ELBO is -77.87337762985356\n",
      "Iteration 22, Delta Gamma = 0.31629575619378897, the ELBO is -77.81478875504527\n",
      "Iteration 23, Delta Gamma = 0.2931916029880527, the ELBO is -77.7628726479829\n",
      "Iteration 24, Delta Gamma = 0.261004658779225, the ELBO is -77.7205994921867\n",
      "Iteration 25, Delta Gamma = 0.22445416787878553, the ELBO is -77.68882168287215\n",
      "Iteration 26, Delta Gamma = 0.18853218248673306, the ELBO is -77.66646351028446\n",
      "Iteration 27, Delta Gamma = 0.1572742665287039, the ELBO is -77.65138253235355\n",
      "Iteration 28, Delta Gamma = 0.13318685175029646, the ELBO is -77.64127667255437\n",
      "Iteration 29, Delta Gamma = 0.11724250837738948, the ELBO is -77.63422465542023\n",
      "Iteration 30, Delta Gamma = 0.10910293615534584, the ELBO is -77.62883309846146\n",
      "Iteration 31, Delta Gamma = 0.10748294840653487, the ELBO is -77.62416082395026\n",
      "Iteration 32, Delta Gamma = 0.11071442717528382, the ELBO is -77.61958029756386\n",
      "Iteration 33, Delta Gamma = 0.11727654999871506, the ELBO is -77.61465681750883\n",
      "Iteration 34, Delta Gamma = 0.1260137951012369, the ELBO is -77.60906714624977\n",
      "Iteration 35, Delta Gamma = 0.13608416279953048, the ELBO is -77.60255427445064\n",
      "Iteration 36, Delta Gamma = 0.146818226703711, the ELBO is -77.5949097113485\n",
      "Iteration 37, Delta Gamma = 0.1575953627996289, the ELBO is -77.58597613967105\n",
      "Iteration 38, Delta Gamma = 0.16776636407156056, the ELBO is -77.57566505582389\n",
      "Iteration 39, Delta Gamma = 0.17662445313672254, the ELBO is -77.563983900582\n",
      "Iteration 40, Delta Gamma = 0.18342353711276058, the ELBO is -77.5510649352749\n",
      "Iteration 41, Delta Gamma = 0.18744186840743982, the ELBO is -77.53718484289459\n",
      "Iteration 42, Delta Gamma = 0.1880826936424468, the ELBO is -77.5227621978111\n",
      "Iteration 43, Delta Gamma = 0.18499063913839037, the ELBO is -77.50832279682928\n",
      "Iteration 44, Delta Gamma = 0.17814935137713653, the ELBO is -77.49443235050714\n",
      "Iteration 45, Delta Gamma = 0.16792229048794893, the ELBO is -77.48161003004718\n",
      "Iteration 46, Delta Gamma = 0.15501251298138877, the ELBO is -77.47024771938345\n",
      "Iteration 47, Delta Gamma = 0.14034652677946102, the ELBO is -77.4605604183096\n",
      "Iteration 48, Delta Gamma = 0.12491739938964752, the ELBO is -77.45258094410227\n",
      "Iteration 49, Delta Gamma = 0.10963580775712777, the ELBO is -77.4461938418512\n",
      "Iteration 50, Delta Gamma = 0.09522785803926481, the ELBO is -77.44119015426922\n",
      "Iteration 51, Delta Gamma = 0.08219387264067896, the ELBO is -77.43732259059982\n",
      "Iteration 52, Delta Gamma = 0.070818523955601, the ELBO is -77.43434754671767\n",
      "Iteration 53, Delta Gamma = 0.06121033820936507, the ELBO is -77.43204981465215\n",
      "Iteration 54, Delta Gamma = 0.05334876572467946, the ELBO is -77.43025250072598\n",
      "Iteration 55, Delta Gamma = 0.04712473402671839, the ELBO is -77.42881724406743\n",
      "Iteration 56, Delta Gamma = 0.04237020871349628, the ELBO is -77.42763949657585\n",
      "Iteration 57, Delta Gamma = 0.03887973458082519, the ELBO is -77.42664214360047\n",
      "Iteration 58, Delta Gamma = 0.03642954381509459, the ELBO is -77.42576926887475\n",
      "Iteration 59, Delta Gamma = 0.03479705601941576, the ELBO is -77.42498083329566\n",
      "Iteration 60, Delta Gamma = 0.03377872484304925, the ELBO is -77.42424845339096\n",
      "Iteration 61, Delta Gamma = 0.03320214945620249, the ELBO is -77.42355219484527\n",
      "Iteration 62, Delta Gamma = 0.03293048307056951, the ELBO is -77.4228782029835\n",
      "Iteration 63, Delta Gamma = 0.03286044331936259, the ELBO is -77.42221698321657\n",
      "Iteration 64, Delta Gamma = 0.0329168143362824, the ELBO is -77.42156216867664\n",
      "Iteration 65, Delta Gamma = 0.03304601589475627, the ELBO is -77.42090964482477\n",
      "Iteration 66, Delta Gamma = 0.03321025267539819, the ELBO is -77.42025693144967\n",
      "Iteration 67, Delta Gamma = 0.03338282762618669, the ELBO is -77.41960274787995\n",
      "Iteration 68, Delta Gamma = 0.03354466233817499, the ELBO is -77.41894670705398\n",
      "Iteration 69, Delta Gamma = 0.03368183929014091, the ELBO is -77.4182890990609\n",
      "Iteration 70, Delta Gamma = 0.03378392810499075, the ELBO is -77.41763073584147\n",
      "Iteration 71, Delta Gamma = 0.033842880804131344, the ELBO is -77.41697283685723\n",
      "Iteration 72, Delta Gamma = 0.03385232606639589, the ELBO is -77.41631694145534\n",
      "Iteration 73, Delta Gamma = 0.03380713666435823, the ELBO is -77.41566483797241\n",
      "Iteration 74, Delta Gamma = 0.03370318005836715, the ELBO is -77.41501850279111\n",
      "Iteration 75, Delta Gamma = 0.03353718874882895, the ELBO is -77.41438004490715\n",
      "Iteration 76, Delta Gamma = 0.033306705907903314, the ELBO is -77.41375165332136\n",
      "Iteration 77, Delta Gamma = 0.03301007497477679, the ELBO is -77.41313554588851\n",
      "Iteration 78, Delta Gamma = 0.032646451023042276, the ELBO is -77.41253391924874\n",
      "Iteration 79, Delta Gamma = 0.032215818120516895, the ELBO is -77.41194890019014\n",
      "Iteration 80, Delta Gamma = 0.031719001548876906, the ELBO is -77.41138249929165\n",
      "Iteration 81, Delta Gamma = 0.03115766727384906, the ELBO is -77.41083656799532\n",
      "Iteration 82, Delta Gamma = 0.03053430386408066, the ELBO is -77.41031276037862\n",
      "Iteration 83, Delta Gamma = 0.02985218438740129, the ELBO is -77.40981250085622\n",
      "Iteration 84, Delta Gamma = 0.0291153077888357, the ELBO is -77.40933695886707\n",
      "Iteration 85, Delta Gamma = 0.028328320920866294, the ELBO is -77.4088870313208\n",
      "Iteration 86, Delta Gamma = 0.0274964237548946, the ELBO is -77.40846333322094\n",
      "Iteration 87, Delta Gamma = 0.02662526133614925, the ELBO is -77.40806619649643\n",
      "Iteration 88, Delta Gamma = 0.025720806735481893, the ELBO is -77.4076956766806\n",
      "Iteration 89, Delta Gamma = 0.02478923959587586, the ELBO is -77.4073515667265\n",
      "Iteration 90, Delta Gamma = 0.023836824883399357, the ELBO is -77.40703341695601\n",
      "Iteration 91, Delta Gamma = 0.022869796167542547, the ELBO is -77.40674055992903\n",
      "Iteration 92, Delta Gamma = 0.021894247227669996, the ELBO is -77.40647213890088\n",
      "Iteration 93, Delta Gamma = 0.02091603507698375, the ELBO is -77.40622713850544\n",
      "Iteration 94, Delta Gamma = 0.01994069668500327, the ELBO is -77.4060044163534\n",
      "Iteration 95, Delta Gamma = 0.018973380833913867, the ELBO is -77.40580273435536\n",
      "Iteration 96, Delta Gamma = 0.01801879572650731, the ELBO is -77.40562078874794\n",
      "Iteration 97, Delta Gamma = 0.017081172223517196, the ELBO is -77.40545723800324\n",
      "Iteration 98, Delta Gamma = 0.016164241962438076, the ELBO is -77.40531072801156\n",
      "Iteration 99, Delta Gamma = 0.015271229118620668, the ELBO is -77.40517991414035\n",
      "Iteration 100, Delta Gamma = 0.01440485421965839, the ELBO is -77.4050634799616\n",
      "Iteration 101, Delta Gamma = 0.013567348210802665, the ELBO is -77.40496015261053\n",
      "Iteration 102, Delta Gamma = 0.012760474878866583, the ELBO is -77.40486871487538\n",
      "Iteration 103, Delta Gamma = 0.01198555975552852, the ELBO is -77.40478801422401\n",
      "Iteration 104, Delta Gamma = 0.011243523716244474, the ELBO is -77.40471696904851\n",
      "Iteration 105, Delta Gamma = 0.010534919645605621, the ELBO is -77.40465457245435\n",
      "Iteration 106, Delta Gamma = 0.009859970733007248, the ELBO is -77.40459989394373\n",
      "Iteration 107, Delta Gamma = 0.009218609175658631, the ELBO is -77.404552079343\n",
      "Iteration 108, Delta Gamma = 0.008610514283849976, the ELBO is -77.40451034931297\n",
      "Iteration 109, Delta Gamma = 0.008035149194727939, the ELBO is -77.40447399675296\n",
      "Iteration 110, Delta Gamma = 0.007491795596815625, the ELBO is -77.40444238338252\n",
      "Iteration 111, Delta Gamma = 0.006979586043219539, the ELBO is -77.40441493574552\n",
      "Iteration 112, Delta Gamma = 0.006497533583572295, the ELBO is -77.4043911408472\n",
      "Iteration 113, Delta Gamma = 0.006044558572666505, the ELBO is -77.40437054159877\n",
      "Iteration 114, Delta Gamma = 0.005619512617928455, the ELBO is -77.40435273221064\n",
      "Iteration 115, Delta Gamma = 0.005221199709760316, the ELBO is -77.40433735364533\n",
      "Iteration 116, Delta Gamma = 0.00484839464092808, the ELBO is -77.40432408921393\n",
      "Iteration 117, Delta Gamma = 0.004499858865766837, the ELBO is -77.40431266037734\n",
      "Iteration 118, Delta Gamma = 0.004174353979975247, the ELBO is -77.40430282279434\n",
      "Iteration 119, Delta Gamma = 0.0038706530195788905, the ELBO is -77.40429436264212\n",
      "Iteration 120, Delta Gamma = 0.0035875497857125057, the ELBO is -77.40428709322208\n",
      "Iteration 121, Delta Gamma = 0.0033238664024318413, the ELBO is -77.40428085185505\n",
      "Iteration 122, Delta Gamma = 0.003078459309527779, the ELBO is -77.40427549705981\n",
      "Iteration 123, Delta Gamma = 0.002850223883090928, the ELBO is -77.40427090600664\n",
      "Iteration 124, Delta Gamma = 0.002638097864443299, the ELBO is -77.40426697223049\n",
      "Iteration 125, Delta Gamma = 0.002441063764321055, the ELBO is -77.40426360358816\n",
      "Iteration 126, Delta Gamma = 0.0022581503944293147, the ELBO is -77.40426072044146\n",
      "Iteration 127, Delta Gamma = 0.002088433663662385, the ELBO is -77.40425825404691\n",
      "Iteration 128, Delta Gamma = 0.0019310367614894842, the ELBO is -77.4042561451351\n",
      "Iteration 129, Delta Gamma = 0.0017851298370354773, the ELBO is -77.40425434265978\n",
      "Iteration 130, Delta Gamma = 0.0016499292689239233, the ELBO is -77.40425280270064\n",
      "Iteration 131, Delta Gamma = 0.0015246966088347622, the ELBO is -77.40425148750346\n",
      "Iteration 132, Delta Gamma = 0.0014087372702015915, the ELBO is -77.4042503646416\n",
      "Iteration 133, Delta Gamma = 0.00130139902348825, the ELBO is -77.40424940628625\n",
      "Iteration 134, Delta Gamma = 0.0012020703501135314, the ELBO is -77.40424858857126\n",
      "Iteration 135, Delta Gamma = 0.0011101786990395173, the ELBO is -77.40424789104277\n",
      "Iteration 136, Delta Gamma = 0.0010251886828368305, the ELBO is -77.40424729618209\n",
      "Iteration 137, Delta Gamma = 0.0009466002437044423, the ELBO is -77.40424678899277\n",
      "Iteration 138, Delta Gamma = 0.0008739468144288971, the ELBO is -77.4042463566442\n",
      "Iteration 139, Delta Gamma = 0.0008067934945677174, the ELBO is -77.4042459881642\n",
      "Iteration 140, Delta Gamma = 0.0007447352580104238, the ELBO is -77.40424567417385\n",
      "Iteration 141, Delta Gamma = 0.000687395204628799, the ELBO is -77.40424540665956\n",
      "Iteration 142, Delta Gamma = 0.0006344228657281064, the ELBO is -77.4042451787767\n",
      "Iteration 143, Delta Gamma = 0.0005854925705830737, the ELBO is -77.40424498468127\n",
      "Iteration 144, Delta Gamma = 0.000540301879166944, the ELBO is -77.40424481938516\n",
      "Iteration 145, Delta Gamma = 0.0004985700845315178, the ELBO is -77.40424467863208\n",
      "Iteration 146, Delta Gamma = 0.00046003678679204453, the ELBO is -77.40424455879119\n",
      "Iteration 147, Delta Gamma = 0.0004244605395678118, the ELBO is -77.40424445676581\n",
      "Iteration 148, Delta Gamma = 0.00039161756870710054, the ELBO is -77.40424436991566\n",
      "Iteration 149, Delta Gamma = 0.00036130056243669753, the ELBO is -77.40424429599003\n",
      "Iteration 150, Delta Gamma = 0.0003333175314359873, the ELBO is -77.40424423307061\n",
      "Iteration 151, Delta Gamma = 0.0003074907369029856, the ELBO is -77.40424417952273\n",
      "Iteration 152, Delta Gamma = 0.00028365568431281383, the ELBO is -77.40424413395363\n",
      "Iteration 153, Delta Gamma = 0.00026166018035564024, the ELBO is -77.40424409517695\n",
      "Iteration 154, Delta Gamma = 0.00024136345030282655, the ELBO is -77.40424406218204\n",
      "Iteration 155, Delta Gamma = 0.0002226353130351351, the ELBO is -77.4042440341084\n",
      "Iteration 156, Delta Gamma = 0.00020535541083735817, the ELBO is -77.40424401022315\n",
      "Iteration 157, Delta Gamma = 0.0001894124910808316, the ELBO is -77.40424398990231\n",
      "Iteration 158, Delta Gamma = 0.00017470373694191655, the ELBO is -77.40424397261475\n",
      "Iteration 159, Delta Gamma = 0.0001611341443807143, the ELBO is -77.4042439579083\n",
      "Iteration 160, Delta Gamma = 0.00014861594256816008, the ELBO is -77.40424394539787\n",
      "Iteration 161, Delta Gamma = 0.00013706805521794332, the ELBO is -77.40424393475607\n",
      "Iteration 162, Delta Gamma = 0.0001264156001868181, the ELBO is -77.40424392570398\n",
      "Iteration 163, Delta Gamma = 0.00011658942494237432, the ELBO is -77.40424391800437\n",
      "Iteration 164, Delta Gamma = 0.00010752567555403454, the ELBO is -77.4042439114553\n",
      "Iteration 165, Delta Gamma = 9.916539699190611e-05, the ELBO is -77.40424390588495\n",
      "Iteration 166, Delta Gamma = 9.145416263458812e-05, the ELBO is -77.40424390114723\n",
      "Iteration 167, Delta Gamma = 8.434173097293207e-05, the ELBO is -77.40424389711777\n",
      "Iteration 168, Delta Gamma = 7.77817276814932e-05, the ELBO is -77.40424389369076\n",
      "Iteration 169, Delta Gamma = 7.173135123112388e-05, the ELBO is -77.40424389077606\n",
      "Iteration 170, Delta Gamma = 6.615110043482826e-05, the ELBO is -77.40424388829729\n",
      "Iteration 171, Delta Gamma = 6.100452234507833e-05, the ELBO is -77.40424388618914\n",
      "Iteration 172, Delta Gamma = 5.625797904508388e-05, the ELBO is -77.40424388439627\n",
      "Iteration 173, Delta Gamma = 5.188043198709082e-05, the ELBO is -77.40424388287154\n",
      "Iteration 174, Delta Gamma = 4.7843242589608926e-05, the ELBO is -77.40424388157496\n",
      "Iteration 175, Delta Gamma = 4.4119987904033944e-05, the ELBO is -77.40424388047227\n",
      "Iteration 176, Delta Gamma = 4.0686290271365785e-05, the ELBO is -77.40424387953455\n",
      "Iteration 177, Delta Gamma = 3.751965989620326e-05, the ELBO is -77.40424387873709\n",
      "Iteration 178, Delta Gamma = 3.4599349404637444e-05, the ELBO is -77.40424387805896\n",
      "Iteration 179, Delta Gamma = 3.190621952631817e-05, the ELBO is -77.40424387748223\n",
      "Iteration 180, Delta Gamma = 2.9422614974890345e-05, the ELBO is -77.4042438769919\n",
      "Iteration 181, Delta Gamma = 2.7132249866341383e-05, the ELBO is -77.40424387657485\n",
      "Iteration 182, Delta Gamma = 2.5020101914498153e-05, the ELBO is -77.40424387622024\n",
      "Iteration 183, Delta Gamma = 2.3072314716211484e-05, the ELBO is -77.40424387591867\n",
      "Iteration 184, Delta Gamma = 2.127610756743014e-05, the ELBO is -77.40424387566225\n",
      "Iteration 185, Delta Gamma = 1.961969218839712e-05, the ELBO is -77.4042438754442\n",
      "Iteration 186, Delta Gamma = 1.8092195887421873e-05, the ELBO is -77.40424387525874\n",
      "Iteration 187, Delta Gamma = 1.668359060554804e-05, the ELBO is -77.40424387510106\n",
      "Iteration 188, Delta Gamma = 1.538462747249145e-05, the ELBO is -77.40424387496702\n",
      "Iteration 189, Delta Gamma = 1.4186776378939925e-05, the ELBO is -77.40424387485297\n",
      "Iteration 190, Delta Gamma = 1.3082170236260414e-05, the ELBO is -77.40424387475602\n",
      "Iteration 191, Delta Gamma = 1.2063553526896813e-05, the ELBO is -77.4042438746736\n",
      "Iteration 192, Delta Gamma = 1.112423485046432e-05, the ELBO is -77.40424387460342\n",
      "Iteration 193, Delta Gamma = 1.0258043123037993e-05, the ELBO is -77.40424387454388\n",
      "Iteration 194, Delta Gamma = 9.459287181945884e-06, the ELBO is -77.40424387449319\n",
      "Iteration 195, Delta Gamma = 8.722718504174598e-06, the ELBO is -77.40424387445006\n",
      "Iteration 196, Delta Gamma = 8.043496822499132e-06, the ELBO is -77.40424387441344\n",
      "Iteration 197, Delta Gamma = 7.417158411827947e-06, the ELBO is -77.40424387438222\n",
      "Iteration 198, Delta Gamma = 6.8395868167879636e-06, the ELBO is -77.40424387435579\n",
      "Iteration 199, Delta Gamma = 6.306985867044925e-06, the ELBO is -77.40424387433323\n",
      "Iteration 200, Delta Gamma = 5.815854769745837e-06, the ELBO is -77.40424387431403\n",
      "Iteration 201, Delta Gamma = 5.3629651584465416e-06, the ELBO is -77.4042438742978\n",
      "Iteration 202, Delta Gamma = 4.945339897653552e-06, the ELBO is -77.40424387428394\n",
      "Iteration 203, Delta Gamma = 4.560233548477302e-06, the ELBO is -77.40424387427214\n",
      "Iteration 204, Delta Gamma = 4.205114350823759e-06, the ELBO is -77.4042438742621\n",
      "Iteration 205, Delta Gamma = 3.877647597909871e-06, the ELBO is -77.40424387425362\n",
      "Iteration 206, Delta Gamma = 3.5756803142437023e-06, the ELBO is -77.40424387424636\n",
      "Iteration 207, Delta Gamma = 3.2972271063197505e-06, the ELBO is -77.40424387424021\n",
      "Iteration 208, Delta Gamma = 3.040457133569069e-06, the ELBO is -77.40424387423494\n",
      "Iteration 209, Delta Gamma = 2.8036820782791994e-06, the ELBO is -77.40424387423053\n",
      "Iteration 210, Delta Gamma = 2.5853450532517538e-06, the ELBO is -77.40424387422675\n",
      "Iteration 211, Delta Gamma = 2.384010381719557e-06, the ELBO is -77.40424387422348\n",
      "Iteration 212, Delta Gamma = 2.1983541546462594e-06, the ELBO is -77.4042438742208\n",
      "Iteration 213, Delta Gamma = 2.0271555340794327e-06, the ELBO is -77.40424387421847\n",
      "Iteration 214, Delta Gamma = 1.8692887365117577e-06, the ELBO is -77.40424387421649\n",
      "Iteration 215, Delta Gamma = 1.7237156289154777e-06, the ELBO is -77.40424387421476\n",
      "Iteration 216, Delta Gamma = 1.5894789042534732e-06, the ELBO is -77.40424387421334\n",
      "Iteration 217, Delta Gamma = 1.465695799261566e-06, the ELBO is -77.40424387421216\n",
      "Iteration 218, Delta Gamma = 1.3515522788390484e-06, the ELBO is -77.40424387421106\n",
      "Iteration 219, Delta Gamma = 1.2462976938025364e-06, the ELBO is -77.40424387421027\n",
      "Iteration 220, Delta Gamma = 1.1492398480585995e-06, the ELBO is -77.4042438742095\n",
      "Iteration 221, Delta Gamma = 1.059740435307499e-06, the ELBO is -77.40424387420883\n",
      "Iteration 222, Delta Gamma = 9.772108633672185e-07, the ELBO is -77.40424387420828\n",
      "Iteration 223, Delta Gamma = 9.011083624814218e-07, the ELBO is -77.40424387420785\n",
      "Iteration 224, Delta Gamma = 8.309324371301318e-07, the ELBO is -77.40424387420745\n",
      "Iteration 225, Delta Gamma = 7.66221557237784e-07, the ELBO is -77.40424387420708\n",
      "Iteration 226, Delta Gamma = 7.065501352881551e-07, the ELBO is -77.40424387420681\n",
      "Iteration 227, Delta Gamma = 6.515257249991962e-07, the ELBO is -77.4042438742066\n",
      "Iteration 228, Delta Gamma = 6.007864400145618e-07, the ELBO is -77.40424387420639\n",
      "Iteration 229, Delta Gamma = 5.53998574563151e-07, the ELBO is -77.40424387420619\n",
      "Iteration 230, Delta Gamma = 5.108544088711264e-07, the ELBO is -77.40424387420606\n",
      "Iteration 231, Delta Gamma = 4.710701901015327e-07, the ELBO is -77.40424387420595\n",
      "Iteration 232, Delta Gamma = 4.3438425469015485e-07, the ELBO is -77.40424387420583\n",
      "Iteration 233, Delta Gamma = 4.005553241716292e-07, the ELBO is -77.40424387420575\n",
      "Iteration 234, Delta Gamma = 3.693609024713588e-07, the ELBO is -77.40424387420565\n",
      "Iteration 235, Delta Gamma = 3.405958252045202e-07, the ELBO is -77.40424387420563\n",
      "Iteration 236, Delta Gamma = 3.140709013507774e-07, the ELBO is -77.40424387420558\n",
      "Iteration 237, Delta Gamma = 2.896116762917241e-07, the ELBO is -77.40424387420546\n",
      "Iteration 238, Delta Gamma = 2.670572793691761e-07, the ELBO is -77.40424387420549\n",
      "Iteration 239, Delta Gamma = 2.4625936759444917e-07, the ELBO is -77.40424387420538\n",
      "Iteration 240, Delta Gamma = 2.2708115269315664e-07, the ELBO is -77.40424387420539\n",
      "Iteration 241, Delta Gamma = 2.0939649496596926e-07, the ELBO is -77.40424387420535\n",
      "Iteration 242, Delta Gamma = 1.9308907982731988e-07, the ELBO is -77.40424387420533\n",
      "Iteration 243, Delta Gamma = 1.7805165403314157e-07, the ELBO is -77.40424387420532\n",
      "Iteration 244, Delta Gamma = 1.6418531139465973e-07, the ELBO is -77.40424387420532\n",
      "Iteration 245, Delta Gamma = 1.5139885449737176e-07, the ELBO is -77.40424387420529\n",
      "Iteration 246, Delta Gamma = 1.3960817924956955e-07, the ELBO is -77.40424387420529\n",
      "Iteration 247, Delta Gamma = 1.2873573886221437e-07, the ELBO is -77.40424387420526\n",
      "Iteration 248, Delta Gamma = 1.1871002549606856e-07, the ELBO is -77.40424387420529\n",
      "Iteration 249, Delta Gamma = 1.0946509451989717e-07, the ELBO is -77.40424387420524\n",
      "Iteration 250, Delta Gamma = 1.0094014069808548e-07, the ELBO is -77.40424387420526\n",
      "Iteration 251, Delta Gamma = 9.307909508024196e-08, the ELBO is -77.40424387420525\n",
      "Iteration 252, Delta Gamma = 8.583025370009383e-08, the ELBO is -77.40424387420524\n",
      "Iteration 253, Delta Gamma = 7.914593738331748e-08, the ELBO is -77.40424387420524\n",
      "Iteration 254, Delta Gamma = 7.298218680251353e-08, the ELBO is -77.40424387420524\n",
      "Iteration 255, Delta Gamma = 6.72984550363812e-08, the ELBO is -77.40424387420522\n",
      "Iteration 256, Delta Gamma = 6.205736497574554e-08, the ELBO is -77.40424387420524\n",
      "Iteration 257, Delta Gamma = 5.722444102261759e-08, the ELBO is -77.40424387420524\n",
      "Iteration 258, Delta Gamma = 5.276789754391326e-08, the ELBO is -77.40424387420522\n",
      "Iteration 259, Delta Gamma = 4.8658420571599246e-08, the ELBO is -77.40424387420524\n",
      "Iteration 260, Delta Gamma = 4.486898331546694e-08, the ELBO is -77.4042438742052\n",
      "Iteration 261, Delta Gamma = 4.137465965788137e-08, the ELBO is -77.40424387420524\n",
      "Iteration 262, Delta Gamma = 3.815246955313541e-08, the ELBO is -77.4042438742052\n",
      "Iteration 263, Delta Gamma = 3.51812179551571e-08, the ELBO is -77.40424387420519\n",
      "Iteration 264, Delta Gamma = 3.244136202629566e-08, the ELBO is -77.40424387420522\n",
      "Iteration 265, Delta Gamma = 2.9914880796734505e-08, the ELBO is -77.4042438742052\n",
      "Iteration 266, Delta Gamma = 2.7585158701439815e-08, the ELBO is -77.4042438742052\n",
      "Iteration 267, Delta Gamma = 2.5436872255526686e-08, the ELBO is -77.40424387420519\n",
      "Iteration 268, Delta Gamma = 2.3455889494646078e-08, the ELBO is -77.40424387420529\n",
      "Iteration 269, Delta Gamma = 2.162918223358683e-08, the ELBO is -77.40424387420524\n",
      "Iteration 270, Delta Gamma = 1.99447364941596e-08, the ELBO is -77.40424387420524\n",
      "Iteration 271, Delta Gamma = 1.839147239700796e-08, the ELBO is -77.40424387420524\n",
      "Iteration 272, Delta Gamma = 1.6959175673193056e-08, the ELBO is -77.40424387420522\n",
      "Iteration 273, Delta Gamma = 1.5638421336494935e-08, the ELBO is -77.40424387420522\n",
      "Iteration 274, Delta Gamma = 1.4420526034463526e-08, the ELBO is -77.4042438742052\n",
      "Iteration 275, Delta Gamma = 1.3297479581367263e-08, the ELBO is -77.40424387420522\n",
      "Iteration 276, Delta Gamma = 1.2261892632629519e-08, the ELBO is -77.4042438742052\n",
      "Iteration 277, Delta Gamma = 1.130695749140508e-08, the ELBO is -77.40424387420522\n",
      "Iteration 278, Delta Gamma = 1.042638960973634e-08, the ELBO is -77.40424387420519\n",
      "Iteration 279, Delta Gamma = 9.614398782557964e-09, the ELBO is -77.4042438742052\n",
      "Iteration 280, Delta Gamma = 8.8656451256731e-09, the ELBO is -77.40424387420524\n",
      "Iteration 281, Delta Gamma = 8.175202227595215e-09, the ELBO is -77.4042438742052\n",
      "Iteration 282, Delta Gamma = 7.538529393212685e-09, the ELBO is -77.40424387420524\n",
      "Iteration 283, Delta Gamma = 6.951441529906523e-09, the ELBO is -77.40424387420526\n",
      "Iteration 284, Delta Gamma = 6.410075868808088e-09, the ELBO is -77.40424387420524\n",
      "Iteration 285, Delta Gamma = 5.910869517486574e-09, the ELBO is -77.40424387420524\n",
      "Iteration 286, Delta Gamma = 5.450537302110899e-09, the ELBO is -77.40424387420524\n",
      "Iteration 287, Delta Gamma = 5.0260592995750935e-09, the ELBO is -77.40424387420516\n",
      "Iteration 288, Delta Gamma = 4.634638765020646e-09, the ELBO is -77.40424387420524\n",
      "Iteration 289, Delta Gamma = 4.273700379420254e-09, the ELBO is -77.40424387420524\n",
      "Iteration 290, Delta Gamma = 3.940873052571972e-09, the ELBO is -77.4042438742052\n",
      "Iteration 291, Delta Gamma = 3.6339633145377046e-09, the ELBO is -77.40424387420524\n",
      "Iteration 292, Delta Gamma = 3.3509546711287428e-09, the ELBO is -77.40424387420524\n",
      "Iteration 293, Delta Gamma = 3.08998844223837e-09, the ELBO is -77.4042438742052\n",
      "Iteration 294, Delta Gamma = 2.8493444089218317e-09, the ELBO is -77.40424387420524\n",
      "Iteration 295, Delta Gamma = 2.62744234432397e-09, the ELBO is -77.40424387420524\n",
      "Iteration 296, Delta Gamma = 2.422821883143347e-09, the ELBO is -77.40424387420522\n",
      "Iteration 297, Delta Gamma = 2.234137014917573e-09, the ELBO is -77.40424387420522\n",
      "Iteration 298, Delta Gamma = 2.0601445168172048e-09, the ELBO is -77.4042438742052\n",
      "Iteration 299, Delta Gamma = 1.8997032060637134e-09, the ELBO is -77.40424387420524\n",
      "Iteration 300, Delta Gamma = 1.7517603809153105e-09, the ELBO is -77.40424387420524\n",
      "Iteration 301, Delta Gamma = 1.6153359462787434e-09, the ELBO is -77.40424387420526\n",
      "Iteration 302, Delta Gamma = 1.4895360695881888e-09, the ELBO is -77.40424387420524\n",
      "Iteration 303, Delta Gamma = 1.3735312434636532e-09, the ELBO is -77.40424387420526\n",
      "Iteration 304, Delta Gamma = 1.2665644194601067e-09, the ELBO is -77.40424387420524\n",
      "Iteration 305, Delta Gamma = 1.167925783610461e-09, the ELBO is -77.4042438742052\n",
      "Iteration 306, Delta Gamma = 1.076969423995156e-09, the ELBO is -77.40424387420522\n"
     ]
    }
   ],
   "source": [
    "lda.e_step()"
   ]
  },
  {
   "cell_type": "code",
   "execution_count": 208,
   "metadata": {},
   "outputs": [
    {
     "name": "stdout",
     "output_type": "stream",
     "text": [
      "Iteration 0, Delta Alpha = 0.35832706340019205\n",
      "Iteration 1, Delta Alpha = 0.22138519458386127\n",
      "Iteration 2, Delta Alpha = 0.03242780156011416\n",
      "Iteration 3, Delta Alpha = 0.0005657446761561303\n",
      "Iteration 4, Delta Alpha = 1.6953551305374223e-07\n",
      "Iteration 5, Delta Alpha = 1.7992464922296575e-14\n"
     ]
    }
   ],
   "source": [
    "lda.update_alpha()"
   ]
  },
  {
   "cell_type": "code",
   "execution_count": 209,
   "metadata": {},
   "outputs": [
    {
     "data": {
      "text/plain": [
       "tensor([1.1669, 1.7208, 0.9591], dtype=torch.float64)"
      ]
     },
     "execution_count": 209,
     "metadata": {},
     "output_type": "execute_result"
    }
   ],
   "source": [
    "lda._alpha_"
   ]
  },
  {
   "cell_type": "code",
   "execution_count": 210,
   "metadata": {},
   "outputs": [
    {
     "data": {
      "text/plain": [
       "tensor([1., 1., 1., 1., 1., 1., 1., 1., 1., 1., 1., 1., 1., 1., 1., 1.],\n",
       "       dtype=torch.float64)"
      ]
     },
     "execution_count": 210,
     "metadata": {},
     "output_type": "execute_result"
    }
   ],
   "source": [
    "lda._eta_"
   ]
  },
  {
   "cell_type": "code",
   "execution_count": 211,
   "metadata": {},
   "outputs": [
    {
     "name": "stdout",
     "output_type": "stream",
     "text": [
      "tensor([-0.0743, -0.0743,  0.5647,  2.5360, -0.0743, -0.0345,  1.7507, -0.0746,\n",
      "        -0.0746, -0.0746, -0.0746, -0.0746, -0.0746,  0.0406,  0.0406,  0.0406],\n",
      "       dtype=torch.float64)\n",
      "Iteration 0, Delta Alpha = 0.8338204609536386\n",
      "tensor([-0.0111, -0.0111,  0.0981,  0.8321, -0.0111, -0.0069,  0.4839, -0.0111,\n",
      "        -0.0111, -0.0111, -0.0111, -0.0111, -0.0111,  0.0020,  0.0020,  0.0020],\n",
      "       dtype=torch.float64)\n",
      "Iteration 1, Delta Alpha = 0.5337808910292512\n",
      "tensor([-0.0016, -0.0016,  0.0075,  0.1426, -0.0016, -0.0013,  0.0638, -0.0016,\n",
      "        -0.0016, -0.0016, -0.0016, -0.0016, -0.0016, -0.0007, -0.0007, -0.0007],\n",
      "       dtype=torch.float64)\n",
      "Iteration 2, Delta Alpha = 0.11986609096304654\n",
      "tensor([-5.8134e-05, -5.8134e-05,  9.4066e-05,  5.3234e-03, -5.8134e-05,\n",
      "        -5.3462e-05,  1.5917e-03, -5.8170e-05, -5.8170e-05, -5.8170e-05,\n",
      "        -5.8170e-05, -5.8170e-05, -5.8170e-05, -4.3304e-05, -4.3304e-05,\n",
      "        -4.3304e-05], dtype=torch.float64)\n",
      "Iteration 3, Delta Alpha = 0.004476815364165127\n",
      "tensor([-7.3476e-08, -7.3476e-08,  1.8644e-08,  7.5682e-06, -7.3476e-08,\n",
      "        -7.0457e-08,  1.2676e-06, -7.3500e-08, -7.3500e-08, -7.3500e-08,\n",
      "        -7.3500e-08, -7.3500e-08, -7.3500e-08, -6.4047e-08, -6.4047e-08,\n",
      "        -6.4047e-08], dtype=torch.float64)\n",
      "Iteration 4, Delta Alpha = 6.047346077015103e-06\n",
      "tensor([-1.2434e-13, -1.2434e-13, -4.4409e-14,  1.4802e-11, -1.2434e-13,\n",
      "        -1.2257e-13,  1.1386e-12, -1.2257e-13, -1.2257e-13, -1.2257e-13,\n",
      "        -1.2257e-13, -1.2257e-13, -1.2257e-13, -1.1013e-13, -1.1013e-13,\n",
      "        -1.1013e-13], dtype=torch.float64)\n",
      "Iteration 5, Delta Alpha = 1.1451972169594267e-11\n"
     ]
    }
   ],
   "source": [
    "lda.update_eta()"
   ]
  },
  {
   "cell_type": "code",
   "execution_count": 205,
   "metadata": {},
   "outputs": [
    {
     "data": {
      "text/plain": [
       "tensor([1.1127, 1.1127, 1.2688, 2.1003, 1.1127, 1.1215, 1.7161, 1.1130, 1.1130,\n",
       "        1.1130, 1.1130, 1.1130, 1.1130, 1.1322, 1.1322, 1.1322],\n",
       "       dtype=torch.float64)"
      ]
     },
     "execution_count": 205,
     "metadata": {},
     "output_type": "execute_result"
    }
   ],
   "source": [
    "lda._eta_"
   ]
  },
  {
   "cell_type": "code",
   "execution_count": 104,
   "metadata": {},
   "outputs": [
    {
     "data": {
      "text/plain": [
       "dtype('float64')"
      ]
     },
     "execution_count": 104,
     "metadata": {},
     "output_type": "execute_result"
    }
   ],
   "source": [
    "lda._phi_[:][2][-1].dtype"
   ]
  },
  {
   "cell_type": "code",
   "execution_count": 115,
   "metadata": {},
   "outputs": [],
   "source": [
    "x = tr.tensor(lda._phi_[:][2][-1])\n",
    "x1 = x.clone()"
   ]
  },
  {
   "cell_type": "code",
   "execution_count": 116,
   "metadata": {},
   "outputs": [],
   "source": [
    "x1[1]= 1e8"
   ]
  },
  {
   "cell_type": "code",
   "execution_count": 117,
   "metadata": {},
   "outputs": [
    {
     "data": {
      "text/plain": [
       "tensor([1.0000e+00, 1.0000e+08, 1.0000e+00], dtype=torch.float64)"
      ]
     },
     "execution_count": 117,
     "metadata": {},
     "output_type": "execute_result"
    }
   ],
   "source": [
    "x1 "
   ]
  },
  {
   "cell_type": "code",
   "execution_count": 118,
   "metadata": {},
   "outputs": [
    {
     "data": {
      "text/plain": [
       "tensor([1., 1., 1.], dtype=torch.float64)"
      ]
     },
     "execution_count": 118,
     "metadata": {},
     "output_type": "execute_result"
    }
   ],
   "source": [
    "x"
   ]
  },
  {
   "cell_type": "code",
   "execution_count": null,
   "metadata": {},
   "outputs": [],
   "source": []
  }
 ],
 "metadata": {
  "kernelspec": {
   "display_name": ".venv",
   "language": "python",
   "name": "python3"
  },
  "language_info": {
   "codemirror_mode": {
    "name": "ipython",
    "version": 3
   },
   "file_extension": ".py",
   "mimetype": "text/x-python",
   "name": "python",
   "nbconvert_exporter": "python",
   "pygments_lexer": "ipython3",
   "version": "3.8.9"
  },
  "orig_nbformat": 4
 },
 "nbformat": 4,
 "nbformat_minor": 2
}
