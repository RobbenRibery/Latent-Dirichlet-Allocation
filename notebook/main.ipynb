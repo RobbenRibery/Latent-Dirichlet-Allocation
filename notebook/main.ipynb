{
 "cells": [
  {
   "cell_type": "code",
   "execution_count": 130,
   "metadata": {},
   "outputs": [
    {
     "name": "stdout",
     "output_type": "stream",
     "text": [
      "The autoreload extension is already loaded. To reload it, use:\n",
      "  %reload_ext autoreload\n"
     ]
    }
   ],
   "source": [
    "%load_ext autoreload\n",
    "%autoreload 2\n",
    "import sys \n",
    "if '/Users/ericliu/Desktop/Latent-Dirichilet-Allocation' not in sys.path: \n",
    "    sys.path.append('/Users/ericliu/Desktop/Latent-Dirichilet-Allocation')\n",
    "import torch as tr \n",
    "import numpy as np "
   ]
  },
  {
   "cell_type": "code",
   "execution_count": 153,
   "metadata": {},
   "outputs": [],
   "source": [
    "from src.lda_model import LDASmoothed \n",
    "from src.utils import get_vocab_from_docs, get_np_wct \n",
    "from pprint import pprint \n",
    "\n",
    "import copy "
   ]
  },
  {
   "cell_type": "code",
   "execution_count": 138,
   "metadata": {},
   "outputs": [],
   "source": [
    "num_topics = 3 "
   ]
  },
  {
   "cell_type": "code",
   "execution_count": 149,
   "metadata": {},
   "outputs": [
    {
     "name": "stdout",
     "output_type": "stream",
     "text": [
      "[['My', 'name', 'is', 'tuo', 'tuo', '.'], ['tuo', 'tuo', 'is', 'cute', '!'], ['Tuo', 'tuo', 'likes', 'to', 'poo', 'a', 'lot', '!'], ['mama', 'bear', 'very', 'tuo', '!']]\n"
     ]
    }
   ],
   "source": [
    "docs = [\n",
    "    ['My name is tuo tuo .'],\n",
    "    ['tuo tuo is cute !'],\n",
    "    ['Tuo tuo likes to poo a lot !'],\n",
    "    ['mama bear very tuo !']\n",
    "]\n",
    "\n",
    "docs = [doc[0].split(' ') for doc in docs]\n",
    "\n",
    "print(docs)"
   ]
  },
  {
   "cell_type": "code",
   "execution_count": 150,
   "metadata": {},
   "outputs": [
    {
     "data": {
      "text/plain": [
       "{'My': [1, 0, 0, 0],\n",
       " 'name': [1, 0, 0, 0],\n",
       " 'is': [1, 1, 0, 0],\n",
       " 'tuo': [2, 2, 1, 1],\n",
       " '.': [1, 0, 0, 0],\n",
       " 'cute': [0, 1, 0, 0],\n",
       " '!': [0, 1, 1, 1],\n",
       " 'Tuo': [0, 0, 1, 0],\n",
       " 'likes': [0, 0, 1, 0],\n",
       " 'to': [0, 0, 1, 0],\n",
       " 'poo': [0, 0, 1, 0],\n",
       " 'a': [0, 0, 1, 0],\n",
       " 'lot': [0, 0, 1, 0],\n",
       " 'mama': [0, 0, 0, 1],\n",
       " 'bear': [0, 0, 0, 1],\n",
       " 'very': [0, 0, 0, 1]}"
      ]
     },
     "execution_count": 150,
     "metadata": {},
     "output_type": "execute_result"
    }
   ],
   "source": [
    "wct_dict = get_vocab_from_docs(docs)\n",
    "wct_dict "
   ]
  },
  {
   "cell_type": "code",
   "execution_count": 151,
   "metadata": {},
   "outputs": [
    {
     "name": "stdout",
     "output_type": "stream",
     "text": [
      "[[1. 0. 0. 0.]\n",
      " [1. 0. 0. 0.]\n",
      " [1. 1. 0. 0.]\n",
      " [2. 2. 1. 1.]\n",
      " [1. 0. 0. 0.]\n",
      " [0. 1. 0. 0.]\n",
      " [0. 1. 1. 1.]\n",
      " [0. 0. 1. 0.]\n",
      " [0. 0. 1. 0.]\n",
      " [0. 0. 1. 0.]\n",
      " [0. 0. 1. 0.]\n",
      " [0. 0. 1. 0.]\n",
      " [0. 0. 1. 0.]\n",
      " [0. 0. 0. 1.]\n",
      " [0. 0. 0. 1.]\n",
      " [0. 0. 0. 1.]]\n",
      "{'!': 6,\n",
      " '.': 4,\n",
      " 'My': 0,\n",
      " 'Tuo': 7,\n",
      " 'a': 11,\n",
      " 'bear': 14,\n",
      " 'cute': 5,\n",
      " 'is': 2,\n",
      " 'likes': 8,\n",
      " 'lot': 12,\n",
      " 'mama': 13,\n",
      " 'name': 1,\n",
      " 'poo': 10,\n",
      " 'to': 9,\n",
      " 'tuo': 3,\n",
      " 'very': 15}\n"
     ]
    }
   ],
   "source": [
    "wct_array, w_2_idx = get_np_wct(wct_dict, docs)\n",
    "\n",
    "print(wct_array)\n",
    "pprint(w_2_idx)"
   ]
  },
  {
   "cell_type": "code",
   "execution_count": 152,
   "metadata": {},
   "outputs": [
    {
     "data": {
      "text/plain": [
       "array([[1.0, 0.0, 0.0, 0.0],\n",
       "       [1.0, 0.0, 0.0, 0.0],\n",
       "       [1.0, 1.0, 0.0, 0.0],\n",
       "       [2.0, 2.0, 1.0, 1.0],\n",
       "       [1.0, 0.0, 0.0, 0.0],\n",
       "       [0.0, 1.0, 0.0, 0.0],\n",
       "       [0.0, 1.0, 1.0, 1.0],\n",
       "       [0.0, 0.0, 1.0, 0.0],\n",
       "       [0.0, 0.0, 1.0, 0.0],\n",
       "       [0.0, 0.0, 1.0, 0.0],\n",
       "       [0.0, 0.0, 1.0, 0.0],\n",
       "       [0.0, 0.0, 1.0, 0.0],\n",
       "       [0.0, 0.0, 1.0, 0.0],\n",
       "       [0.0, 0.0, 0.0, 1.0],\n",
       "       [0.0, 0.0, 0.0, 1.0],\n",
       "       [0.0, 0.0, 0.0, 1.0]], dtype=object)"
      ]
     },
     "execution_count": 152,
     "metadata": {},
     "output_type": "execute_result"
    }
   ],
   "source": [
    "wct_array.astype(object)"
   ]
  },
  {
   "cell_type": "code",
   "execution_count": 155,
   "metadata": {},
   "outputs": [
    {
     "name": "stdout",
     "output_type": "stream",
     "text": [
      "[[0, 1, 2, 3, 3, 4], [3, 3, 2, 5, 6], [7, 3, 8, 9, 10, 11, 12, 6], [13, 14, 15, 3, 6]]\n",
      "[['My', 'name', 'is', 'tuo', 'tuo', '.'], ['tuo', 'tuo', 'is', 'cute', '!'], ['Tuo', 'tuo', 'likes', 'to', 'poo', 'a', 'lot', '!'], ['mama', 'bear', 'very', 'tuo', '!']]\n"
     ]
    }
   ],
   "source": [
    "docs_in_vocab_indx = copy.deepcopy(docs)\n",
    "#print(docs_in_vocab_indx)\n",
    "\n",
    "for id, d in enumerate(docs): \n",
    "\n",
    "    for n in range(len(d)): \n",
    "\n",
    "        docs_in_vocab_indx[id][n] = w_2_idx[docs[id][n]]\n",
    "\n",
    "print(docs_in_vocab_indx)\n",
    "print(docs)\n",
    "# docs_in_idx = np.array(docs_in_vocab_indx)\n",
    "# docs_in_idx"
   ]
  },
  {
   "attachments": {},
   "cell_type": "markdown",
   "metadata": {},
   "source": [
    "- construct  new phi "
   ]
  },
  {
   "cell_type": "code",
   "execution_count": 161,
   "metadata": {},
   "outputs": [
    {
     "data": {
      "text/plain": [
       "[['My', 'name', 'is', 'tuo', 'tuo', '.'],\n",
       " ['tuo', 'tuo', 'is', 'cute', '!'],\n",
       " ['Tuo', 'tuo', 'likes', 'to', 'poo', 'a', 'lot', '!'],\n",
       " ['mama', 'bear', 'very', 'tuo', '!']]"
      ]
     },
     "execution_count": 161,
     "metadata": {},
     "output_type": "execute_result"
    }
   ],
   "source": [
    "docs  "
   ]
  },
  {
   "cell_type": "code",
   "execution_count": 157,
   "metadata": {},
   "outputs": [
    {
     "data": {
      "text/plain": [
       "tensor([[[0.3333, 0.3333, 0.3333],\n",
       "         [0.3333, 0.3333, 0.3333],\n",
       "         [0.3333, 0.3333, 0.3333],\n",
       "         [0.3333, 0.3333, 0.3333],\n",
       "         [0.3333, 0.3333, 0.3333],\n",
       "         [0.0000, 0.0000, 0.0000],\n",
       "         [0.0000, 0.0000, 0.0000],\n",
       "         [0.0000, 0.0000, 0.0000],\n",
       "         [0.0000, 0.0000, 0.0000],\n",
       "         [0.0000, 0.0000, 0.0000],\n",
       "         [0.0000, 0.0000, 0.0000],\n",
       "         [0.0000, 0.0000, 0.0000],\n",
       "         [0.0000, 0.0000, 0.0000],\n",
       "         [0.0000, 0.0000, 0.0000],\n",
       "         [0.0000, 0.0000, 0.0000],\n",
       "         [0.0000, 0.0000, 0.0000]],\n",
       "\n",
       "        [[0.0000, 0.0000, 0.0000],\n",
       "         [0.0000, 0.0000, 0.0000],\n",
       "         [0.3333, 0.3333, 0.3333],\n",
       "         [0.3333, 0.3333, 0.3333],\n",
       "         [0.0000, 0.0000, 0.0000],\n",
       "         [0.3333, 0.3333, 0.3333],\n",
       "         [0.3333, 0.3333, 0.3333],\n",
       "         [0.0000, 0.0000, 0.0000],\n",
       "         [0.0000, 0.0000, 0.0000],\n",
       "         [0.0000, 0.0000, 0.0000],\n",
       "         [0.0000, 0.0000, 0.0000],\n",
       "         [0.0000, 0.0000, 0.0000],\n",
       "         [0.0000, 0.0000, 0.0000],\n",
       "         [0.0000, 0.0000, 0.0000],\n",
       "         [0.0000, 0.0000, 0.0000],\n",
       "         [0.0000, 0.0000, 0.0000]],\n",
       "\n",
       "        [[0.0000, 0.0000, 0.0000],\n",
       "         [0.0000, 0.0000, 0.0000],\n",
       "         [0.0000, 0.0000, 0.0000],\n",
       "         [0.3333, 0.3333, 0.3333],\n",
       "         [0.0000, 0.0000, 0.0000],\n",
       "         [0.0000, 0.0000, 0.0000],\n",
       "         [0.3333, 0.3333, 0.3333],\n",
       "         [0.3333, 0.3333, 0.3333],\n",
       "         [0.3333, 0.3333, 0.3333],\n",
       "         [0.3333, 0.3333, 0.3333],\n",
       "         [0.3333, 0.3333, 0.3333],\n",
       "         [0.3333, 0.3333, 0.3333],\n",
       "         [0.3333, 0.3333, 0.3333],\n",
       "         [0.0000, 0.0000, 0.0000],\n",
       "         [0.0000, 0.0000, 0.0000],\n",
       "         [0.0000, 0.0000, 0.0000]],\n",
       "\n",
       "        [[0.0000, 0.0000, 0.0000],\n",
       "         [0.0000, 0.0000, 0.0000],\n",
       "         [0.0000, 0.0000, 0.0000],\n",
       "         [0.3333, 0.3333, 0.3333],\n",
       "         [0.0000, 0.0000, 0.0000],\n",
       "         [0.0000, 0.0000, 0.0000],\n",
       "         [0.3333, 0.3333, 0.3333],\n",
       "         [0.0000, 0.0000, 0.0000],\n",
       "         [0.0000, 0.0000, 0.0000],\n",
       "         [0.0000, 0.0000, 0.0000],\n",
       "         [0.0000, 0.0000, 0.0000],\n",
       "         [0.0000, 0.0000, 0.0000],\n",
       "         [0.0000, 0.0000, 0.0000],\n",
       "         [0.3333, 0.3333, 0.3333],\n",
       "         [0.3333, 0.3333, 0.3333],\n",
       "         [0.3333, 0.3333, 0.3333]]])"
      ]
     },
     "execution_count": 157,
     "metadata": {},
     "output_type": "execute_result"
    }
   ],
   "source": [
    "phi = tr.zeros(len(docs),wct_array.shape[0],num_topics)\n",
    "\n",
    "for id, d in enumerate(docs): \n",
    "\n",
    "    for word in d: \n",
    "\n",
    "        v = w_2_idx[word]\n",
    "\n",
    "        phi[id][v] = 1/num_topics \n",
    "\n",
    "phi "
   ]
  },
  {
   "cell_type": "code",
   "execution_count": 261,
   "metadata": {},
   "outputs": [
    {
     "name": "stdout",
     "output_type": "stream",
     "text": [
      "Word mapping to vocab index is: \n",
      "{'!': 6,\n",
      " '.': 4,\n",
      " 'My': 0,\n",
      " 'Tuo': 7,\n",
      " 'a': 11,\n",
      " 'bear': 14,\n",
      " 'cute': 5,\n",
      " 'is': 2,\n",
      " 'likes': 8,\n",
      " 'lot': 12,\n",
      " 'mama': 13,\n",
      " 'name': 1,\n",
      " 'poo': 10,\n",
      " 'to': 9,\n",
      " 'tuo': 3,\n",
      " 'very': 15}\n",
      "Topic Dirichlet Prior, Alpha\n",
      "torch.Size([3])\n",
      "tensor([1.0662, 1.0646, 1.0246], dtype=torch.float64)\n",
      "\n",
      "Word Dirichlet Prior, Eta\n",
      "torch.Size([16])\n",
      "tensor([1., 1., 1., 1., 1., 1., 1., 1., 1., 1., 1., 1., 1., 1., 1., 1.],\n",
      "       dtype=torch.float64)\n",
      "\n",
      "Var Inf - Word Dirichlet prior, Lambda\n",
      "torch.Size([3, 16])\n",
      "tensor([[1., 1., 1., 1., 1., 1., 1., 1., 1., 1., 1., 1., 1., 1., 1., 1.],\n",
      "        [1., 1., 1., 1., 1., 1., 1., 1., 1., 1., 1., 1., 1., 1., 1., 1.],\n",
      "        [1., 1., 1., 1., 1., 1., 1., 1., 1., 1., 1., 1., 1., 1., 1., 1.]],\n",
      "       dtype=torch.float64)\n",
      "\n",
      "Var Inf - Topic Dirichlet prior, Gamma\n",
      "torch.Size([4, 3])\n",
      "tensor([[6.3996, 6.3979, 6.3580],\n",
      "        [6.3996, 6.3979, 6.3580],\n",
      "        [6.3996, 6.3979, 6.3580],\n",
      "        [6.3996, 6.3979, 6.3580]], dtype=torch.float64)\n",
      "\n",
      "Var -Inf - Word wise Topic Multinomial/Categorical, Phi\n",
      "torch.Size([4, 16, 3])\n",
      "tensor([[[0.3333, 0.3333, 0.3333],\n",
      "         [0.3333, 0.3333, 0.3333],\n",
      "         [0.3333, 0.3333, 0.3333],\n",
      "         [0.3333, 0.3333, 0.3333],\n",
      "         [0.3333, 0.3333, 0.3333],\n",
      "         [0.0000, 0.0000, 0.0000],\n",
      "         [0.0000, 0.0000, 0.0000],\n",
      "         [0.0000, 0.0000, 0.0000],\n",
      "         [0.0000, 0.0000, 0.0000],\n",
      "         [0.0000, 0.0000, 0.0000],\n",
      "         [0.0000, 0.0000, 0.0000],\n",
      "         [0.0000, 0.0000, 0.0000],\n",
      "         [0.0000, 0.0000, 0.0000],\n",
      "         [0.0000, 0.0000, 0.0000],\n",
      "         [0.0000, 0.0000, 0.0000],\n",
      "         [0.0000, 0.0000, 0.0000]],\n",
      "\n",
      "        [[0.0000, 0.0000, 0.0000],\n",
      "         [0.0000, 0.0000, 0.0000],\n",
      "         [0.3333, 0.3333, 0.3333],\n",
      "         [0.3333, 0.3333, 0.3333],\n",
      "         [0.0000, 0.0000, 0.0000],\n",
      "         [0.3333, 0.3333, 0.3333],\n",
      "         [0.3333, 0.3333, 0.3333],\n",
      "         [0.0000, 0.0000, 0.0000],\n",
      "         [0.0000, 0.0000, 0.0000],\n",
      "         [0.0000, 0.0000, 0.0000],\n",
      "         [0.0000, 0.0000, 0.0000],\n",
      "         [0.0000, 0.0000, 0.0000],\n",
      "         [0.0000, 0.0000, 0.0000],\n",
      "         [0.0000, 0.0000, 0.0000],\n",
      "         [0.0000, 0.0000, 0.0000],\n",
      "         [0.0000, 0.0000, 0.0000]],\n",
      "\n",
      "        [[0.0000, 0.0000, 0.0000],\n",
      "         [0.0000, 0.0000, 0.0000],\n",
      "         [0.0000, 0.0000, 0.0000],\n",
      "         [0.3333, 0.3333, 0.3333],\n",
      "         [0.0000, 0.0000, 0.0000],\n",
      "         [0.0000, 0.0000, 0.0000],\n",
      "         [0.3333, 0.3333, 0.3333],\n",
      "         [0.3333, 0.3333, 0.3333],\n",
      "         [0.3333, 0.3333, 0.3333],\n",
      "         [0.3333, 0.3333, 0.3333],\n",
      "         [0.3333, 0.3333, 0.3333],\n",
      "         [0.3333, 0.3333, 0.3333],\n",
      "         [0.3333, 0.3333, 0.3333],\n",
      "         [0.0000, 0.0000, 0.0000],\n",
      "         [0.0000, 0.0000, 0.0000],\n",
      "         [0.0000, 0.0000, 0.0000]],\n",
      "\n",
      "        [[0.0000, 0.0000, 0.0000],\n",
      "         [0.0000, 0.0000, 0.0000],\n",
      "         [0.0000, 0.0000, 0.0000],\n",
      "         [0.3333, 0.3333, 0.3333],\n",
      "         [0.0000, 0.0000, 0.0000],\n",
      "         [0.0000, 0.0000, 0.0000],\n",
      "         [0.3333, 0.3333, 0.3333],\n",
      "         [0.0000, 0.0000, 0.0000],\n",
      "         [0.0000, 0.0000, 0.0000],\n",
      "         [0.0000, 0.0000, 0.0000],\n",
      "         [0.0000, 0.0000, 0.0000],\n",
      "         [0.0000, 0.0000, 0.0000],\n",
      "         [0.0000, 0.0000, 0.0000],\n",
      "         [0.3333, 0.3333, 0.3333],\n",
      "         [0.3333, 0.3333, 0.3333],\n",
      "         [0.3333, 0.3333, 0.3333]]], dtype=torch.float64)\n"
     ]
    }
   ],
   "source": [
    "lda = LDASmoothed(\n",
    "    docs,\n",
    "    num_topics, \n",
    "    wct_dict, \n",
    "    word_ct_array = wct_array\n",
    ")\n",
    "#LDASmoothed(docs, 3, wct_dict)"
   ]
  },
  {
   "cell_type": "code",
   "execution_count": 246,
   "metadata": {},
   "outputs": [
    {
     "name": "stdout",
     "output_type": "stream",
     "text": [
      "Iteration 0, Delta Gamma = inf, the ELBO is -85.68776167935472\n",
      "Iteration 1, Delta Gamma = 11.634543358698698, the ELBO is -78.76652059022041\n",
      "Iteration 2, Delta Gamma = 0.3802251983925746, the ELBO is -78.69498753371093\n",
      "Iteration 3, Delta Gamma = 0.37955856202224414, the ELBO is -78.61939065204434\n",
      "Iteration 4, Delta Gamma = 0.3934062072450881, the ELBO is -78.53391581308772\n",
      "Iteration 5, Delta Gamma = 0.4166941230683475, the ELBO is -78.43448663806691\n",
      "Iteration 6, Delta Gamma = 0.44447213643639694, the ELBO is -78.31839275417336\n",
      "Iteration 7, Delta Gamma = 0.47006831218353495, the ELBO is -78.18563628775681\n",
      "Iteration 8, Delta Gamma = 0.48500553411935377, the ELBO is -78.04086154141861\n",
      "Iteration 9, Delta Gamma = 0.4812559933817966, the ELBO is -77.89415487962795\n",
      "Iteration 10, Delta Gamma = 0.45526726021920205, the ELBO is -77.75867198536456\n",
      "Iteration 11, Delta Gamma = 0.4108527412220289, the ELBO is -77.64531724002988\n",
      "Iteration 12, Delta Gamma = 0.35787759461683966, the ELBO is -77.55828872049199\n",
      "Iteration 13, Delta Gamma = 0.30731317800553437, the ELBO is -77.49504616185692\n",
      "Iteration 14, Delta Gamma = 0.26647387871451095, the ELBO is -77.44971181451061\n",
      "Iteration 15, Delta Gamma = 0.23722513066628134, the ELBO is -77.41639983494127\n",
      "Iteration 16, Delta Gamma = 0.2171672880929972, the ELBO is -77.39073784566027\n",
      "Iteration 17, Delta Gamma = 0.20228311790862338, the ELBO is -77.37000153067898\n",
      "Iteration 18, Delta Gamma = 0.18918130214692902, the ELBO is -77.35270290901454\n",
      "Iteration 19, Delta Gamma = 0.17596615889909062, the ELBO is -77.33810364884788\n",
      "Iteration 20, Delta Gamma = 0.16207683022744926, the ELBO is -77.32583019543462\n",
      "Iteration 21, Delta Gamma = 0.14779814690872145, the ELBO is -77.31563165574667\n",
      "Iteration 22, Delta Gamma = 0.13383202925579912, the ELBO is -77.30726065293753\n",
      "Iteration 23, Delta Gamma = 0.12102391501738795, the ELBO is -77.30043575306043\n",
      "Iteration 24, Delta Gamma = 0.11021371644959778, the ELBO is -77.29484574329496\n",
      "Iteration 25, Delta Gamma = 0.10214612003854052, the ELBO is -77.29016778477157\n",
      "Iteration 26, Delta Gamma = 0.09738023404595672, the ELBO is -77.2860841668771\n",
      "Iteration 27, Delta Gamma = 0.09618505046751927, the ELBO is -77.28229188977097\n",
      "Iteration 28, Delta Gamma = 0.09847964345315552, the ELBO is -77.27850487471487\n",
      "Iteration 29, Delta Gamma = 0.1038862400993893, the ELBO is -77.2744511559201\n",
      "Iteration 30, Delta Gamma = 0.11186836346932387, the ELBO is -77.26986822124323\n",
      "Iteration 31, Delta Gamma = 0.12185353764513202, the ELBO is -77.2644997631158\n",
      "Iteration 32, Delta Gamma = 0.13328027394138528, the ELBO is -77.2580970476505\n",
      "Iteration 33, Delta Gamma = 0.1455797336929997, the ELBO is -77.25042803497034\n",
      "Iteration 34, Delta Gamma = 0.15812899614047327, the ELBO is -77.24129700611242\n",
      "Iteration 35, Delta Gamma = 0.1702075187858659, the ELBO is -77.23057613041696\n",
      "Iteration 36, Delta Gamma = 0.18097928028197743, the ELBO is -77.2182473108388\n",
      "Iteration 37, Delta Gamma = 0.18951803554558858, the ELBO is -77.20444725878505\n",
      "Iteration 38, Delta Gamma = 0.19488742412249105, the ELBO is -77.18950186158321\n",
      "Iteration 39, Delta Gamma = 0.19627485687065696, the ELBO is -77.1739306868566\n",
      "Iteration 40, Delta Gamma = 0.19315602535411922, the ELBO is -77.15840432467185\n",
      "Iteration 41, Delta Gamma = 0.18544231455997642, the ELBO is -77.14365070499778\n",
      "Iteration 42, Delta Gamma = 0.17355215077576297, the ELBO is -77.13032942609549\n",
      "Iteration 43, Delta Gamma = 0.15836470158998076, the ELBO is -77.11891358285138\n",
      "Iteration 44, Delta Gamma = 0.14105938516044456, the ELBO is -77.10962105679258\n",
      "Iteration 45, Delta Gamma = 0.12289370487975501, the ELBO is -77.1024163558253\n",
      "Iteration 46, Delta Gamma = 0.10499428532097989, the ELBO is -77.09707228124653\n",
      "Iteration 47, Delta Gamma = 0.08821960144168808, the ELBO is -77.09325862528372\n",
      "Iteration 48, Delta Gamma = 0.07311329156128453, the ELBO is -77.09062391593741\n",
      "Iteration 49, Delta Gamma = 0.05993087292556724, the ELBO is -77.08885060017242\n",
      "Iteration 50, Delta Gamma = 0.048706387396796495, the ELBO is -77.08768089131308\n",
      "Iteration 51, Delta Gamma = 0.039328157761749284, the ELBO is -77.08692074930804\n",
      "Iteration 52, Delta Gamma = 0.03160452870141171, the ELBO is -77.08643189611762\n",
      "Iteration 53, Delta Gamma = 0.025312168365866996, the ELBO is -77.08611962985404\n",
      "Iteration 54, Delta Gamma = 0.020227125027709538, the ELBO is -77.08592091868458\n",
      "Iteration 55, Delta Gamma = 0.016142232722583364, the ELBO is -77.08579464727161\n",
      "Iteration 56, Delta Gamma = 0.012875099685067065, the ELBO is -77.0857143657135\n",
      "Iteration 57, Delta Gamma = 0.010270264609903572, the ELBO is -77.08566321399198\n",
      "Iteration 58, Delta Gamma = 0.0081981080281587, the ELBO is -77.0856305060059\n",
      "Iteration 59, Delta Gamma = 0.006552201007130929, the ELBO is -77.08560948970194\n",
      "Iteration 60, Delta Gamma = 0.005246097194037206, the ELBO is -77.08559590359273\n",
      "Iteration 61, Delta Gamma = 0.004210121516264467, the ELBO is -77.08558705700717\n",
      "Iteration 62, Delta Gamma = 0.003388428026962581, the ELBO is -77.08558124826504\n",
      "Iteration 63, Delta Gamma = 0.002736435920351815, the ELBO is -77.08557739820814\n",
      "Iteration 64, Delta Gamma = 0.002218663616795158, the ELBO is -77.0855748198972\n",
      "Iteration 65, Delta Gamma = 0.0018069362334600233, the ELBO is -77.08557307399052\n",
      "Iteration 66, Delta Gamma = 0.001478922584756475, the ELBO is -77.08557187789273\n",
      "Iteration 67, Delta Gamma = 0.0012169524578225495, the ELBO is -77.08557104860678\n",
      "Iteration 68, Delta Gamma = 0.0010070665034823743, the ELBO is -77.08557046671119\n",
      "Iteration 69, Delta Gamma = 0.0008382558945811024, the ELBO is -77.08557005358881\n",
      "Iteration 70, Delta Gamma = 0.0007018549148204563, the ELBO is -77.08556975697982\n",
      "Iteration 71, Delta Gamma = 0.0005910558128234258, the ELBO is -77.08556954177638\n",
      "Iteration 72, Delta Gamma = 0.0005005210475073106, the ELBO is -77.08556938412653\n",
      "Iteration 73, Delta Gamma = 0.0004260731651921114, the ELBO is -77.08556926763396\n",
      "Iteration 74, Delta Gamma = 0.00036444682721001125, the ELBO is -77.08556918089224\n",
      "Iteration 75, Delta Gamma = 0.0003130909021752754, the ELBO is -77.08556911587087\n",
      "Iteration 76, Delta Gamma = 0.0002700111096655732, the ELBO is -77.08556906685068\n",
      "Iteration 77, Delta Gamma = 0.00023364559382743144, the ELBO is -77.0855690297131\n",
      "Iteration 78, Delta Gamma = 0.00020276719544824322, the ELBO is -77.08556900146199\n",
      "Iteration 79, Delta Gamma = 0.00017640724825178733, the ELBO is -77.08556897989699\n",
      "Iteration 80, Delta Gamma = 0.00015379657703088774, the ELBO is -77.08556896338872\n",
      "Iteration 81, Delta Gamma = 0.00013432009962766961, the ELBO is -77.08556895072172\n",
      "Iteration 82, Delta Gamma = 0.00011748206977090297, the ELBO is -77.08556894098332\n",
      "Iteration 83, Delta Gamma = 0.00010287955653296339, the ELBO is -77.08556893348458\n",
      "Iteration 84, Delta Gamma = 9.018224051886131e-05, the ELBO is -77.08556892770294\n",
      "Iteration 85, Delta Gamma = 7.911701753755598e-05, the ELBO is -77.08556892324054\n",
      "Iteration 86, Delta Gamma = 6.945624019076767e-05, the ELBO is -77.08556891979335\n",
      "Iteration 87, Delta Gamma = 6.100870166432269e-05, the ELBO is -77.08556891712858\n",
      "Iteration 88, Delta Gamma = 5.3612682927752836e-05, the ELBO is -77.08556891506753\n",
      "Iteration 89, Delta Gamma = 4.7130552623478524e-05, the ELBO is -77.08556891347263\n",
      "Iteration 90, Delta Gamma = 4.144453767870959e-05, the ELBO is -77.08556891223803\n",
      "Iteration 91, Delta Gamma = 3.645337995421432e-05, the ELBO is -77.08556891128198\n",
      "Iteration 92, Delta Gamma = 3.2069667136691926e-05, the ELBO is -77.08556891054153\n",
      "Iteration 93, Delta Gamma = 2.8217680196976222e-05, the ELBO is -77.08556890996789\n",
      "Iteration 94, Delta Gamma = 2.4831639957097003e-05, the ELBO is -77.08556890952345\n",
      "Iteration 95, Delta Gamma = 2.185426480176716e-05, the ELBO is -77.08556890917907\n",
      "Iteration 96, Delta Gamma = 1.9235573464233343e-05, the ELBO is -77.08556890891215\n",
      "Iteration 97, Delta Gamma = 1.6931882826167253e-05, the ELBO is -77.08556890870528\n",
      "Iteration 98, Delta Gamma = 1.4904962603264288e-05, the ELBO is -77.08556890854497\n",
      "Iteration 99, Delta Gamma = 1.3121317519517957e-05, the ELBO is -77.08556890842067\n",
      "Iteration 100, Delta Gamma = 1.1551574179678833e-05, the ELBO is -77.08556890832435\n",
      "Iteration 101, Delta Gamma = 1.0169954703493441e-05, the ELBO is -77.08556890824961\n",
      "Iteration 102, Delta Gamma = 8.953822876237202e-06, the ELBO is -77.08556890819175\n",
      "Iteration 103, Delta Gamma = 7.883291426550857e-06, the ELBO is -77.08556890814681\n",
      "Iteration 104, Delta Gamma = 6.9408811356792406e-06, the ELBO is -77.08556890811201\n",
      "Iteration 105, Delta Gamma = 6.111224200326761e-06, the ELBO is -77.08556890808507\n",
      "Iteration 106, Delta Gamma = 5.38080554458107e-06, the ELBO is -77.08556890806415\n",
      "Iteration 107, Delta Gamma = 4.737736847880564e-06, the ELBO is -77.0855689080479\n",
      "Iteration 108, Delta Gamma = 4.171558867521538e-06, the ELBO is -77.08556890803534\n",
      "Iteration 109, Delta Gamma = 3.6730682936820933e-06, the ELBO is -77.08556890802558\n",
      "Iteration 110, Delta Gamma = 3.234165970220629e-06, the ELBO is -77.085568908018\n",
      "Iteration 111, Delta Gamma = 2.8477237193840003e-06, the ELBO is -77.08556890801216\n",
      "Iteration 112, Delta Gamma = 2.507467428285804e-06, the ELBO is -77.08556890800764\n",
      "Iteration 113, Delta Gamma = 2.2078743521188957e-06, the ELBO is -77.0855689080041\n",
      "Iteration 114, Delta Gamma = 1.9440828596122463e-06, the ELBO is -77.08556890800133\n",
      "Iteration 115, Delta Gamma = 1.7118131071036464e-06, the ELBO is -77.08556890799927\n",
      "Iteration 116, Delta Gamma = 1.5072972711712026e-06, the ELBO is -77.08556890799761\n",
      "Iteration 117, Delta Gamma = 1.3272181873112374e-06, the ELBO is -77.08556890799632\n",
      "Iteration 118, Delta Gamma = 1.1686553748126477e-06, the ELBO is -77.08556890799535\n",
      "Iteration 119, Delta Gamma = 1.029037547996659e-06, the ELBO is -77.0855689079946\n",
      "Iteration 120, Delta Gamma = 9.06100811160768e-07, the ELBO is -77.08556890799399\n",
      "Iteration 121, Delta Gamma = 7.978518967124267e-07, the ELBO is -77.08556890799356\n",
      "Iteration 122, Delta Gamma = 7.0253577816442e-07, the ELBO is -77.08556890799315\n",
      "Iteration 123, Delta Gamma = 6.186071837494095e-07, the ELBO is -77.08556890799291\n",
      "Iteration 124, Delta Gamma = 5.447055208018047e-07, the ELBO is -77.08556890799267\n",
      "Iteration 125, Delta Gamma = 4.796327806767984e-07, the ELBO is -77.0855689079925\n",
      "Iteration 126, Delta Gamma = 4.2233411915823995e-07, the ELBO is -77.0855689079924\n",
      "Iteration 127, Delta Gamma = 3.71880738036352e-07, the ELBO is -77.08556890799228\n",
      "Iteration 128, Delta Gamma = 3.274548087869449e-07, the ELBO is -77.08556890799223\n",
      "Iteration 129, Delta Gamma = 2.883362324344887e-07, the ELBO is -77.08556890799215\n",
      "Iteration 130, Delta Gamma = 2.53890938084229e-07, the ELBO is -77.08556890799208\n",
      "Iteration 131, Delta Gamma = 2.2356061837089335e-07, the ELBO is -77.08556890799206\n",
      "Iteration 132, Delta Gamma = 1.9685366596704807e-07, the ELBO is -77.08556890799204\n",
      "Iteration 133, Delta Gamma = 1.7333721164343512e-07, the ELBO is -77.08556890799198\n",
      "Iteration 134, Delta Gamma = 1.5263009953785867e-07, the ELBO is -77.08556890799201\n",
      "Iteration 135, Delta Gamma = 1.343967115434191e-07, the ELBO is -77.085568907992\n",
      "Iteration 136, Delta Gamma = 1.1834152520971404e-07, the ELBO is -77.08556890799198\n",
      "Iteration 137, Delta Gamma = 1.0420432147860927e-07, the ELBO is -77.08556890799197\n",
      "Iteration 138, Delta Gamma = 9.1755976381895e-08, the ELBO is -77.08556890799197\n",
      "Iteration 139, Delta Gamma = 8.079472935019334e-08, the ELBO is -77.085568907992\n",
      "Iteration 140, Delta Gamma = 7.114292963856024e-08, the ELBO is -77.08556890799194\n",
      "Iteration 141, Delta Gamma = 6.264414372761109e-08, the ELBO is -77.08556890799193\n",
      "Iteration 142, Delta Gamma = 5.516063627516882e-08, the ELBO is -77.08556890799196\n",
      "Iteration 143, Delta Gamma = 4.8571113874853306e-08, the ELBO is -77.08556890799198\n",
      "Iteration 144, Delta Gamma = 4.276878382119409e-08, the ELBO is -77.08556890799198\n",
      "Iteration 145, Delta Gamma = 3.7659604120883705e-08, the ELBO is -77.08556890799193\n",
      "Iteration 146, Delta Gamma = 3.316076995655788e-08, the ELBO is -77.08556890799193\n",
      "Iteration 147, Delta Gamma = 2.9199371300949722e-08, the ELBO is -77.08556890799196\n",
      "Iteration 148, Delta Gamma = 2.5711202643757017e-08, the ELBO is -77.08556890799198\n",
      "Iteration 149, Delta Gamma = 2.2639734128258557e-08, the ELBO is -77.08556890799196\n",
      "Iteration 150, Delta Gamma = 1.9935184194053212e-08, the ELBO is -77.08556890799197\n",
      "Iteration 151, Delta Gamma = 1.755372124219393e-08, the ELBO is -77.08556890799193\n",
      "Iteration 152, Delta Gamma = 1.545674855748392e-08, the ELBO is -77.08556890799196\n",
      "Iteration 153, Delta Gamma = 1.3610279496643101e-08, the ELBO is -77.08556890799193\n",
      "Iteration 154, Delta Gamma = 1.1984394132303133e-08, the ELBO is -77.08556890799191\n",
      "Iteration 155, Delta Gamma = 1.0552734725275516e-08, the ELBO is -77.08556890799193\n"
     ]
    }
   ],
   "source": [
    "lda.e_step()"
   ]
  },
  {
   "cell_type": "code",
   "execution_count": 247,
   "metadata": {},
   "outputs": [
    {
     "data": {
      "text/plain": [
       "tensor([[[0.8328, 0.1015, 0.0656],\n",
       "         [0.8328, 0.1015, 0.0656],\n",
       "         [0.8890, 0.0676, 0.0434],\n",
       "         [0.9329, 0.0338, 0.0333],\n",
       "         [0.8328, 0.1015, 0.0656],\n",
       "         [0.0000, 0.0000, 0.0000],\n",
       "         [0.0000, 0.0000, 0.0000],\n",
       "         [0.0000, 0.0000, 0.0000],\n",
       "         [0.0000, 0.0000, 0.0000],\n",
       "         [0.0000, 0.0000, 0.0000],\n",
       "         [0.0000, 0.0000, 0.0000],\n",
       "         [0.0000, 0.0000, 0.0000],\n",
       "         [0.0000, 0.0000, 0.0000],\n",
       "         [0.0000, 0.0000, 0.0000],\n",
       "         [0.0000, 0.0000, 0.0000],\n",
       "         [0.0000, 0.0000, 0.0000]],\n",
       "\n",
       "        [[0.0000, 0.0000, 0.0000],\n",
       "         [0.0000, 0.0000, 0.0000],\n",
       "         [0.8823, 0.0674, 0.0503],\n",
       "         [0.9276, 0.0338, 0.0387],\n",
       "         [0.0000, 0.0000, 0.0000],\n",
       "         [0.8211, 0.1014, 0.0775],\n",
       "         [0.8271, 0.0731, 0.0997],\n",
       "         [0.0000, 0.0000, 0.0000],\n",
       "         [0.0000, 0.0000, 0.0000],\n",
       "         [0.0000, 0.0000, 0.0000],\n",
       "         [0.0000, 0.0000, 0.0000],\n",
       "         [0.0000, 0.0000, 0.0000],\n",
       "         [0.0000, 0.0000, 0.0000],\n",
       "         [0.0000, 0.0000, 0.0000],\n",
       "         [0.0000, 0.0000, 0.0000],\n",
       "         [0.0000, 0.0000, 0.0000]],\n",
       "\n",
       "        [[0.0000, 0.0000, 0.0000],\n",
       "         [0.0000, 0.0000, 0.0000],\n",
       "         [0.0000, 0.0000, 0.0000],\n",
       "         [0.5018, 0.0651, 0.4331],\n",
       "         [0.0000, 0.0000, 0.0000],\n",
       "         [0.0000, 0.0000, 0.0000],\n",
       "         [0.2623, 0.0826, 0.6551],\n",
       "         [0.0948, 0.0846, 0.8206],\n",
       "         [0.0948, 0.0846, 0.8206],\n",
       "         [0.0948, 0.0846, 0.8206],\n",
       "         [0.0948, 0.0846, 0.8206],\n",
       "         [0.0948, 0.0846, 0.8206],\n",
       "         [0.0948, 0.0846, 0.8206],\n",
       "         [0.0000, 0.0000, 0.0000],\n",
       "         [0.0000, 0.0000, 0.0000],\n",
       "         [0.0000, 0.0000, 0.0000]],\n",
       "\n",
       "        [[0.0000, 0.0000, 0.0000],\n",
       "         [0.0000, 0.0000, 0.0000],\n",
       "         [0.0000, 0.0000, 0.0000],\n",
       "         [0.8889, 0.0578, 0.0533],\n",
       "         [0.0000, 0.0000, 0.0000],\n",
       "         [0.0000, 0.0000, 0.0000],\n",
       "         [0.7511, 0.1186, 0.1303],\n",
       "         [0.0000, 0.0000, 0.0000],\n",
       "         [0.0000, 0.0000, 0.0000],\n",
       "         [0.0000, 0.0000, 0.0000],\n",
       "         [0.0000, 0.0000, 0.0000],\n",
       "         [0.0000, 0.0000, 0.0000],\n",
       "         [0.0000, 0.0000, 0.0000],\n",
       "         [0.6998, 0.1911, 0.1090],\n",
       "         [0.6998, 0.1911, 0.1090],\n",
       "         [0.6998, 0.1911, 0.1090]]], dtype=torch.float64)"
      ]
     },
     "execution_count": 247,
     "metadata": {},
     "output_type": "execute_result"
    }
   ],
   "source": [
    "lda._phi_"
   ]
  },
  {
   "cell_type": "code",
   "execution_count": 248,
   "metadata": {},
   "outputs": [
    {
     "name": "stdout",
     "output_type": "stream",
     "text": [
      "Iteration 0, Delta Alpha = 0.49748160035002437 elbo is -77.08556890799193\n",
      "Iteration 1, Delta Alpha = 0.4482049669844789 elbo is -76.38807636805365\n",
      "Iteration 2, Delta Alpha = 0.13527603583706238 elbo is -76.26336597159539\n",
      "Iteration 3, Delta Alpha = 0.008514981080721542 elbo is -76.25669591767722\n",
      "Iteration 4, Delta Alpha = 3.059578285176301e-05 elbo is -76.25667309490211\n",
      "Iteration 5, Delta Alpha = 3.988947973825057e-10 elbo is -76.256673094607\n"
     ]
    }
   ],
   "source": [
    "lda.update_alpha()"
   ]
  },
  {
   "cell_type": "code",
   "execution_count": 249,
   "metadata": {},
   "outputs": [
    {
     "data": {
      "text/plain": [
       "tensor([2.2114, 0.8318, 1.0284], dtype=torch.float64)"
      ]
     },
     "execution_count": 249,
     "metadata": {},
     "output_type": "execute_result"
    }
   ],
   "source": [
    "lda._alpha_"
   ]
  },
  {
   "cell_type": "code",
   "execution_count": 250,
   "metadata": {},
   "outputs": [
    {
     "data": {
      "text/plain": [
       "tensor([1., 1., 1., 1., 1., 1., 1., 1., 1., 1., 1., 1., 1., 1., 1., 1.],\n",
       "       dtype=torch.float64)"
      ]
     },
     "execution_count": 250,
     "metadata": {},
     "output_type": "execute_result"
    }
   ],
   "source": [
    "lda._eta_"
   ]
  },
  {
   "cell_type": "code",
   "execution_count": 251,
   "metadata": {},
   "outputs": [
    {
     "name": "stdout",
     "output_type": "stream",
     "text": [
      "Iteration 0, Delta Alpha = 0.7782684947672688, elbo is -76.256673094607\n",
      "Iteration 1, Delta Alpha = 0.42408186920084473, elbo is -75.08279437667072\n",
      "Iteration 2, Delta Alpha = 0.07483985966584267, elbo is -74.91299061680559\n",
      "Iteration 3, Delta Alpha = 0.0018411311094690805, elbo is -74.90918237262353\n",
      "Iteration 4, Delta Alpha = 1.115209823462873e-06, elbo is -74.909180145797\n",
      "Iteration 5, Delta Alpha = 4.317222680992514e-13, elbo is -74.90918014579614\n"
     ]
    }
   ],
   "source": [
    "lda.update_eta()"
   ]
  },
  {
   "cell_type": "code",
   "execution_count": 252,
   "metadata": {},
   "outputs": [
    {
     "data": {
      "text/plain": [
       "tensor([1.1367, 1.1367, 1.2994, 1.9299, 1.1367, 1.1389, 1.6381, 1.1391, 1.1391,\n",
       "        1.1391, 1.1391, 1.1391, 1.1391, 1.1575, 1.1575, 1.1575],\n",
       "       dtype=torch.float64)"
      ]
     },
     "execution_count": 252,
     "metadata": {},
     "output_type": "execute_result"
    }
   ],
   "source": [
    "lda._eta_"
   ]
  },
  {
   "cell_type": "code",
   "execution_count": 219,
   "metadata": {},
   "outputs": [
    {
     "data": {
      "text/plain": [
       "tensor([[[0.0631, 0.0851, 0.8518],\n",
       "         [0.0631, 0.0851, 0.8518],\n",
       "         [0.0427, 0.0588, 0.8985],\n",
       "         [0.0415, 0.0510, 0.9075],\n",
       "         [0.0631, 0.0851, 0.8518],\n",
       "         [0.0000, 0.0000, 0.0000],\n",
       "         [0.0000, 0.0000, 0.0000],\n",
       "         [0.0000, 0.0000, 0.0000],\n",
       "         [0.0000, 0.0000, 0.0000],\n",
       "         [0.0000, 0.0000, 0.0000],\n",
       "         [0.0000, 0.0000, 0.0000],\n",
       "         [0.0000, 0.0000, 0.0000],\n",
       "         [0.0000, 0.0000, 0.0000],\n",
       "         [0.0000, 0.0000, 0.0000],\n",
       "         [0.0000, 0.0000, 0.0000],\n",
       "         [0.0000, 0.0000, 0.0000]],\n",
       "\n",
       "        [[0.0000, 0.0000, 0.0000],\n",
       "         [0.0000, 0.0000, 0.0000],\n",
       "         [0.0584, 0.0815, 0.8601],\n",
       "         [0.0570, 0.0709, 0.8721],\n",
       "         [0.0000, 0.0000, 0.0000],\n",
       "         [0.0908, 0.1261, 0.7831],\n",
       "         [0.1572, 0.2023, 0.6405],\n",
       "         [0.0000, 0.0000, 0.0000],\n",
       "         [0.0000, 0.0000, 0.0000],\n",
       "         [0.0000, 0.0000, 0.0000],\n",
       "         [0.0000, 0.0000, 0.0000],\n",
       "         [0.0000, 0.0000, 0.0000],\n",
       "         [0.0000, 0.0000, 0.0000],\n",
       "         [0.0000, 0.0000, 0.0000],\n",
       "         [0.0000, 0.0000, 0.0000],\n",
       "         [0.0000, 0.0000, 0.0000]],\n",
       "\n",
       "        [[0.0000, 0.0000, 0.0000],\n",
       "         [0.0000, 0.0000, 0.0000],\n",
       "         [0.0000, 0.0000, 0.0000],\n",
       "         [0.5366, 0.1078, 0.3556],\n",
       "         [0.0000, 0.0000, 0.0000],\n",
       "         [0.0000, 0.0000, 0.0000],\n",
       "         [0.7226, 0.1501, 0.1274],\n",
       "         [0.8453, 0.0839, 0.0708],\n",
       "         [0.8453, 0.0839, 0.0708],\n",
       "         [0.8453, 0.0839, 0.0708],\n",
       "         [0.8453, 0.0839, 0.0708],\n",
       "         [0.8453, 0.0839, 0.0708],\n",
       "         [0.8453, 0.0839, 0.0708],\n",
       "         [0.0000, 0.0000, 0.0000],\n",
       "         [0.0000, 0.0000, 0.0000],\n",
       "         [0.0000, 0.0000, 0.0000]],\n",
       "\n",
       "        [[0.0000, 0.0000, 0.0000],\n",
       "         [0.0000, 0.0000, 0.0000],\n",
       "         [0.0000, 0.0000, 0.0000],\n",
       "         [0.1006, 0.4023, 0.4971],\n",
       "         [0.0000, 0.0000, 0.0000],\n",
       "         [0.0000, 0.0000, 0.0000],\n",
       "         [0.1551, 0.6409, 0.2039],\n",
       "         [0.0000, 0.0000, 0.0000],\n",
       "         [0.0000, 0.0000, 0.0000],\n",
       "         [0.0000, 0.0000, 0.0000],\n",
       "         [0.0000, 0.0000, 0.0000],\n",
       "         [0.0000, 0.0000, 0.0000],\n",
       "         [0.0000, 0.0000, 0.0000],\n",
       "         [0.0905, 0.7782, 0.1313],\n",
       "         [0.0905, 0.7782, 0.1313],\n",
       "         [0.0905, 0.7782, 0.1313]]], dtype=torch.float64)"
      ]
     },
     "execution_count": 219,
     "metadata": {},
     "output_type": "execute_result"
    }
   ],
   "source": [
    "lda._phi_"
   ]
  },
  {
   "cell_type": "code",
   "execution_count": 262,
   "metadata": {},
   "outputs": [
    {
     "name": "stdout",
     "output_type": "stream",
     "text": [
      "Training started -> ELBO at init is :-85.37606416585183\n",
      "ELBO converged at 1629 -> ELBO:-60.85687311861693\n"
     ]
    }
   ],
   "source": [
    "lda.fit()"
   ]
  },
  {
   "cell_type": "code",
   "execution_count": null,
   "metadata": {},
   "outputs": [],
   "source": []
  }
 ],
 "metadata": {
  "kernelspec": {
   "display_name": ".venv",
   "language": "python",
   "name": "python3"
  },
  "language_info": {
   "codemirror_mode": {
    "name": "ipython",
    "version": 3
   },
   "file_extension": ".py",
   "mimetype": "text/x-python",
   "name": "python",
   "nbconvert_exporter": "python",
   "pygments_lexer": "ipython3",
   "version": "3.8.9"
  },
  "orig_nbformat": 4
 },
 "nbformat": 4,
 "nbformat_minor": 2
}
