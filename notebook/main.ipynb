{
 "cells": [
  {
   "cell_type": "code",
   "execution_count": 130,
   "metadata": {},
   "outputs": [
    {
     "name": "stdout",
     "output_type": "stream",
     "text": [
      "The autoreload extension is already loaded. To reload it, use:\n",
      "  %reload_ext autoreload\n"
     ]
    }
   ],
   "source": [
    "%load_ext autoreload\n",
    "%autoreload 2\n",
    "import sys \n",
    "if '/Users/ericliu/Desktop/Latent-Dirichilet-Allocation' not in sys.path: \n",
    "    sys.path.append('/Users/ericliu/Desktop/Latent-Dirichilet-Allocation')\n",
    "import torch as tr \n",
    "import numpy as np "
   ]
  },
  {
   "cell_type": "code",
   "execution_count": 153,
   "metadata": {},
   "outputs": [],
   "source": [
    "from src.lda_model import LDASmoothed \n",
    "from src.utils import get_vocab_from_docs, get_np_wct \n",
    "from pprint import pprint \n",
    "\n",
    "import copy "
   ]
  },
  {
   "cell_type": "code",
   "execution_count": 138,
   "metadata": {},
   "outputs": [],
   "source": [
    "num_topics = 3 "
   ]
  },
  {
   "cell_type": "code",
   "execution_count": 149,
   "metadata": {},
   "outputs": [
    {
     "name": "stdout",
     "output_type": "stream",
     "text": [
      "[['My', 'name', 'is', 'tuo', 'tuo', '.'], ['tuo', 'tuo', 'is', 'cute', '!'], ['Tuo', 'tuo', 'likes', 'to', 'poo', 'a', 'lot', '!'], ['mama', 'bear', 'very', 'tuo', '!']]\n"
     ]
    }
   ],
   "source": [
    "docs = [\n",
    "    ['My name is tuo tuo .'],\n",
    "    ['tuo tuo is cute !'],\n",
    "    ['Tuo tuo likes to poo a lot !'],\n",
    "    ['mama bear very tuo !']\n",
    "]\n",
    "\n",
    "docs = [doc[0].split(' ') for doc in docs]\n",
    "\n",
    "print(docs)"
   ]
  },
  {
   "cell_type": "code",
   "execution_count": 150,
   "metadata": {},
   "outputs": [
    {
     "data": {
      "text/plain": [
       "{'My': [1, 0, 0, 0],\n",
       " 'name': [1, 0, 0, 0],\n",
       " 'is': [1, 1, 0, 0],\n",
       " 'tuo': [2, 2, 1, 1],\n",
       " '.': [1, 0, 0, 0],\n",
       " 'cute': [0, 1, 0, 0],\n",
       " '!': [0, 1, 1, 1],\n",
       " 'Tuo': [0, 0, 1, 0],\n",
       " 'likes': [0, 0, 1, 0],\n",
       " 'to': [0, 0, 1, 0],\n",
       " 'poo': [0, 0, 1, 0],\n",
       " 'a': [0, 0, 1, 0],\n",
       " 'lot': [0, 0, 1, 0],\n",
       " 'mama': [0, 0, 0, 1],\n",
       " 'bear': [0, 0, 0, 1],\n",
       " 'very': [0, 0, 0, 1]}"
      ]
     },
     "execution_count": 150,
     "metadata": {},
     "output_type": "execute_result"
    }
   ],
   "source": [
    "wct_dict = get_vocab_from_docs(docs)\n",
    "wct_dict "
   ]
  },
  {
   "cell_type": "code",
   "execution_count": 151,
   "metadata": {},
   "outputs": [
    {
     "name": "stdout",
     "output_type": "stream",
     "text": [
      "[[1. 0. 0. 0.]\n",
      " [1. 0. 0. 0.]\n",
      " [1. 1. 0. 0.]\n",
      " [2. 2. 1. 1.]\n",
      " [1. 0. 0. 0.]\n",
      " [0. 1. 0. 0.]\n",
      " [0. 1. 1. 1.]\n",
      " [0. 0. 1. 0.]\n",
      " [0. 0. 1. 0.]\n",
      " [0. 0. 1. 0.]\n",
      " [0. 0. 1. 0.]\n",
      " [0. 0. 1. 0.]\n",
      " [0. 0. 1. 0.]\n",
      " [0. 0. 0. 1.]\n",
      " [0. 0. 0. 1.]\n",
      " [0. 0. 0. 1.]]\n",
      "{'!': 6,\n",
      " '.': 4,\n",
      " 'My': 0,\n",
      " 'Tuo': 7,\n",
      " 'a': 11,\n",
      " 'bear': 14,\n",
      " 'cute': 5,\n",
      " 'is': 2,\n",
      " 'likes': 8,\n",
      " 'lot': 12,\n",
      " 'mama': 13,\n",
      " 'name': 1,\n",
      " 'poo': 10,\n",
      " 'to': 9,\n",
      " 'tuo': 3,\n",
      " 'very': 15}\n"
     ]
    }
   ],
   "source": [
    "wct_array, w_2_idx = get_np_wct(wct_dict, docs)\n",
    "\n",
    "print(wct_array)\n",
    "pprint(w_2_idx)"
   ]
  },
  {
   "cell_type": "code",
   "execution_count": 152,
   "metadata": {},
   "outputs": [
    {
     "data": {
      "text/plain": [
       "array([[1.0, 0.0, 0.0, 0.0],\n",
       "       [1.0, 0.0, 0.0, 0.0],\n",
       "       [1.0, 1.0, 0.0, 0.0],\n",
       "       [2.0, 2.0, 1.0, 1.0],\n",
       "       [1.0, 0.0, 0.0, 0.0],\n",
       "       [0.0, 1.0, 0.0, 0.0],\n",
       "       [0.0, 1.0, 1.0, 1.0],\n",
       "       [0.0, 0.0, 1.0, 0.0],\n",
       "       [0.0, 0.0, 1.0, 0.0],\n",
       "       [0.0, 0.0, 1.0, 0.0],\n",
       "       [0.0, 0.0, 1.0, 0.0],\n",
       "       [0.0, 0.0, 1.0, 0.0],\n",
       "       [0.0, 0.0, 1.0, 0.0],\n",
       "       [0.0, 0.0, 0.0, 1.0],\n",
       "       [0.0, 0.0, 0.0, 1.0],\n",
       "       [0.0, 0.0, 0.0, 1.0]], dtype=object)"
      ]
     },
     "execution_count": 152,
     "metadata": {},
     "output_type": "execute_result"
    }
   ],
   "source": [
    "wct_array.astype(object)"
   ]
  },
  {
   "cell_type": "code",
   "execution_count": 155,
   "metadata": {},
   "outputs": [
    {
     "name": "stdout",
     "output_type": "stream",
     "text": [
      "[[0, 1, 2, 3, 3, 4], [3, 3, 2, 5, 6], [7, 3, 8, 9, 10, 11, 12, 6], [13, 14, 15, 3, 6]]\n",
      "[['My', 'name', 'is', 'tuo', 'tuo', '.'], ['tuo', 'tuo', 'is', 'cute', '!'], ['Tuo', 'tuo', 'likes', 'to', 'poo', 'a', 'lot', '!'], ['mama', 'bear', 'very', 'tuo', '!']]\n"
     ]
    }
   ],
   "source": [
    "docs_in_vocab_indx = copy.deepcopy(docs)\n",
    "#print(docs_in_vocab_indx)\n",
    "\n",
    "for id, d in enumerate(docs): \n",
    "\n",
    "    for n in range(len(d)): \n",
    "\n",
    "        docs_in_vocab_indx[id][n] = w_2_idx[docs[id][n]]\n",
    "\n",
    "print(docs_in_vocab_indx)\n",
    "print(docs)\n",
    "# docs_in_idx = np.array(docs_in_vocab_indx)\n",
    "# docs_in_idx"
   ]
  },
  {
   "attachments": {},
   "cell_type": "markdown",
   "metadata": {},
   "source": [
    "- construct  new phi "
   ]
  },
  {
   "cell_type": "code",
   "execution_count": 161,
   "metadata": {},
   "outputs": [
    {
     "data": {
      "text/plain": [
       "[['My', 'name', 'is', 'tuo', 'tuo', '.'],\n",
       " ['tuo', 'tuo', 'is', 'cute', '!'],\n",
       " ['Tuo', 'tuo', 'likes', 'to', 'poo', 'a', 'lot', '!'],\n",
       " ['mama', 'bear', 'very', 'tuo', '!']]"
      ]
     },
     "execution_count": 161,
     "metadata": {},
     "output_type": "execute_result"
    }
   ],
   "source": [
    "docs  "
   ]
  },
  {
   "cell_type": "code",
   "execution_count": 157,
   "metadata": {},
   "outputs": [
    {
     "data": {
      "text/plain": [
       "tensor([[[0.3333, 0.3333, 0.3333],\n",
       "         [0.3333, 0.3333, 0.3333],\n",
       "         [0.3333, 0.3333, 0.3333],\n",
       "         [0.3333, 0.3333, 0.3333],\n",
       "         [0.3333, 0.3333, 0.3333],\n",
       "         [0.0000, 0.0000, 0.0000],\n",
       "         [0.0000, 0.0000, 0.0000],\n",
       "         [0.0000, 0.0000, 0.0000],\n",
       "         [0.0000, 0.0000, 0.0000],\n",
       "         [0.0000, 0.0000, 0.0000],\n",
       "         [0.0000, 0.0000, 0.0000],\n",
       "         [0.0000, 0.0000, 0.0000],\n",
       "         [0.0000, 0.0000, 0.0000],\n",
       "         [0.0000, 0.0000, 0.0000],\n",
       "         [0.0000, 0.0000, 0.0000],\n",
       "         [0.0000, 0.0000, 0.0000]],\n",
       "\n",
       "        [[0.0000, 0.0000, 0.0000],\n",
       "         [0.0000, 0.0000, 0.0000],\n",
       "         [0.3333, 0.3333, 0.3333],\n",
       "         [0.3333, 0.3333, 0.3333],\n",
       "         [0.0000, 0.0000, 0.0000],\n",
       "         [0.3333, 0.3333, 0.3333],\n",
       "         [0.3333, 0.3333, 0.3333],\n",
       "         [0.0000, 0.0000, 0.0000],\n",
       "         [0.0000, 0.0000, 0.0000],\n",
       "         [0.0000, 0.0000, 0.0000],\n",
       "         [0.0000, 0.0000, 0.0000],\n",
       "         [0.0000, 0.0000, 0.0000],\n",
       "         [0.0000, 0.0000, 0.0000],\n",
       "         [0.0000, 0.0000, 0.0000],\n",
       "         [0.0000, 0.0000, 0.0000],\n",
       "         [0.0000, 0.0000, 0.0000]],\n",
       "\n",
       "        [[0.0000, 0.0000, 0.0000],\n",
       "         [0.0000, 0.0000, 0.0000],\n",
       "         [0.0000, 0.0000, 0.0000],\n",
       "         [0.3333, 0.3333, 0.3333],\n",
       "         [0.0000, 0.0000, 0.0000],\n",
       "         [0.0000, 0.0000, 0.0000],\n",
       "         [0.3333, 0.3333, 0.3333],\n",
       "         [0.3333, 0.3333, 0.3333],\n",
       "         [0.3333, 0.3333, 0.3333],\n",
       "         [0.3333, 0.3333, 0.3333],\n",
       "         [0.3333, 0.3333, 0.3333],\n",
       "         [0.3333, 0.3333, 0.3333],\n",
       "         [0.3333, 0.3333, 0.3333],\n",
       "         [0.0000, 0.0000, 0.0000],\n",
       "         [0.0000, 0.0000, 0.0000],\n",
       "         [0.0000, 0.0000, 0.0000]],\n",
       "\n",
       "        [[0.0000, 0.0000, 0.0000],\n",
       "         [0.0000, 0.0000, 0.0000],\n",
       "         [0.0000, 0.0000, 0.0000],\n",
       "         [0.3333, 0.3333, 0.3333],\n",
       "         [0.0000, 0.0000, 0.0000],\n",
       "         [0.0000, 0.0000, 0.0000],\n",
       "         [0.3333, 0.3333, 0.3333],\n",
       "         [0.0000, 0.0000, 0.0000],\n",
       "         [0.0000, 0.0000, 0.0000],\n",
       "         [0.0000, 0.0000, 0.0000],\n",
       "         [0.0000, 0.0000, 0.0000],\n",
       "         [0.0000, 0.0000, 0.0000],\n",
       "         [0.0000, 0.0000, 0.0000],\n",
       "         [0.3333, 0.3333, 0.3333],\n",
       "         [0.3333, 0.3333, 0.3333],\n",
       "         [0.3333, 0.3333, 0.3333]]])"
      ]
     },
     "execution_count": 157,
     "metadata": {},
     "output_type": "execute_result"
    }
   ],
   "source": [
    "phi = tr.zeros(len(docs),wct_array.shape[0],num_topics)\n",
    "\n",
    "for id, d in enumerate(docs): \n",
    "\n",
    "    for word in d: \n",
    "\n",
    "        v = w_2_idx[word]\n",
    "\n",
    "        phi[id][v] = 1/num_topics \n",
    "\n",
    "phi "
   ]
  },
  {
   "cell_type": "code",
   "execution_count": 187,
   "metadata": {},
   "outputs": [
    {
     "name": "stdout",
     "output_type": "stream",
     "text": [
      "Word mapping to vocab index is: \n",
      "{'!': 6,\n",
      " '.': 4,\n",
      " 'My': 0,\n",
      " 'Tuo': 7,\n",
      " 'a': 11,\n",
      " 'bear': 14,\n",
      " 'cute': 5,\n",
      " 'is': 2,\n",
      " 'likes': 8,\n",
      " 'lot': 12,\n",
      " 'mama': 13,\n",
      " 'name': 1,\n",
      " 'poo': 10,\n",
      " 'to': 9,\n",
      " 'tuo': 3,\n",
      " 'very': 15}\n",
      "Topic Dirichlet Prior, Alpha\n",
      "torch.Size([3])\n",
      "tensor([0.8556, 0.8763, 0.8933], dtype=torch.float64)\n",
      "\n",
      "Word Dirichlet Prior, Eta\n",
      "torch.Size([16])\n",
      "tensor([1., 1., 1., 1., 1., 1., 1., 1., 1., 1., 1., 1., 1., 1., 1., 1.],\n",
      "       dtype=torch.float64)\n",
      "\n",
      "Var Inf - Word Dirichlet prior, Lambda\n",
      "torch.Size([3, 16])\n",
      "tensor([[1., 1., 1., 1., 1., 1., 1., 1., 1., 1., 1., 1., 1., 1., 1., 1.],\n",
      "        [1., 1., 1., 1., 1., 1., 1., 1., 1., 1., 1., 1., 1., 1., 1., 1.],\n",
      "        [1., 1., 1., 1., 1., 1., 1., 1., 1., 1., 1., 1., 1., 1., 1., 1.]],\n",
      "       dtype=torch.float64)\n",
      "\n",
      "Var Inf - Topic Dirichlet prior, Gamma\n",
      "torch.Size([4, 3])\n",
      "tensor([[6.1890, 6.2096, 6.2267],\n",
      "        [6.1890, 6.2096, 6.2267],\n",
      "        [6.1890, 6.2096, 6.2267],\n",
      "        [6.1890, 6.2096, 6.2267]], dtype=torch.float64)\n",
      "\n",
      "Var -Inf - Word wise Topic Multinomial/Categorical, Phi\n",
      "torch.Size([4, 16, 3])\n",
      "tensor([[[0.3333, 0.3333, 0.3333],\n",
      "         [0.3333, 0.3333, 0.3333],\n",
      "         [0.3333, 0.3333, 0.3333],\n",
      "         [0.3333, 0.3333, 0.3333],\n",
      "         [0.3333, 0.3333, 0.3333],\n",
      "         [0.0000, 0.0000, 0.0000],\n",
      "         [0.0000, 0.0000, 0.0000],\n",
      "         [0.0000, 0.0000, 0.0000],\n",
      "         [0.0000, 0.0000, 0.0000],\n",
      "         [0.0000, 0.0000, 0.0000],\n",
      "         [0.0000, 0.0000, 0.0000],\n",
      "         [0.0000, 0.0000, 0.0000],\n",
      "         [0.0000, 0.0000, 0.0000],\n",
      "         [0.0000, 0.0000, 0.0000],\n",
      "         [0.0000, 0.0000, 0.0000],\n",
      "         [0.0000, 0.0000, 0.0000]],\n",
      "\n",
      "        [[0.0000, 0.0000, 0.0000],\n",
      "         [0.0000, 0.0000, 0.0000],\n",
      "         [0.3333, 0.3333, 0.3333],\n",
      "         [0.3333, 0.3333, 0.3333],\n",
      "         [0.0000, 0.0000, 0.0000],\n",
      "         [0.3333, 0.3333, 0.3333],\n",
      "         [0.3333, 0.3333, 0.3333],\n",
      "         [0.0000, 0.0000, 0.0000],\n",
      "         [0.0000, 0.0000, 0.0000],\n",
      "         [0.0000, 0.0000, 0.0000],\n",
      "         [0.0000, 0.0000, 0.0000],\n",
      "         [0.0000, 0.0000, 0.0000],\n",
      "         [0.0000, 0.0000, 0.0000],\n",
      "         [0.0000, 0.0000, 0.0000],\n",
      "         [0.0000, 0.0000, 0.0000],\n",
      "         [0.0000, 0.0000, 0.0000]],\n",
      "\n",
      "        [[0.0000, 0.0000, 0.0000],\n",
      "         [0.0000, 0.0000, 0.0000],\n",
      "         [0.0000, 0.0000, 0.0000],\n",
      "         [0.3333, 0.3333, 0.3333],\n",
      "         [0.0000, 0.0000, 0.0000],\n",
      "         [0.0000, 0.0000, 0.0000],\n",
      "         [0.3333, 0.3333, 0.3333],\n",
      "         [0.3333, 0.3333, 0.3333],\n",
      "         [0.3333, 0.3333, 0.3333],\n",
      "         [0.3333, 0.3333, 0.3333],\n",
      "         [0.3333, 0.3333, 0.3333],\n",
      "         [0.3333, 0.3333, 0.3333],\n",
      "         [0.3333, 0.3333, 0.3333],\n",
      "         [0.0000, 0.0000, 0.0000],\n",
      "         [0.0000, 0.0000, 0.0000],\n",
      "         [0.0000, 0.0000, 0.0000]],\n",
      "\n",
      "        [[0.0000, 0.0000, 0.0000],\n",
      "         [0.0000, 0.0000, 0.0000],\n",
      "         [0.0000, 0.0000, 0.0000],\n",
      "         [0.3333, 0.3333, 0.3333],\n",
      "         [0.0000, 0.0000, 0.0000],\n",
      "         [0.0000, 0.0000, 0.0000],\n",
      "         [0.3333, 0.3333, 0.3333],\n",
      "         [0.0000, 0.0000, 0.0000],\n",
      "         [0.0000, 0.0000, 0.0000],\n",
      "         [0.0000, 0.0000, 0.0000],\n",
      "         [0.0000, 0.0000, 0.0000],\n",
      "         [0.0000, 0.0000, 0.0000],\n",
      "         [0.0000, 0.0000, 0.0000],\n",
      "         [0.3333, 0.3333, 0.3333],\n",
      "         [0.3333, 0.3333, 0.3333],\n",
      "         [0.3333, 0.3333, 0.3333]]], dtype=torch.float64)\n"
     ]
    }
   ],
   "source": [
    "lda = LDASmoothed(\n",
    "    docs,\n",
    "    num_topics, \n",
    "    wct_dict, \n",
    "    word_ct_array = wct_array\n",
    ")\n",
    "#LDASmoothed(docs, 3, wct_dict)"
   ]
  },
  {
   "cell_type": "code",
   "execution_count": 189,
   "metadata": {},
   "outputs": [
    {
     "name": "stdout",
     "output_type": "stream",
     "text": [
      "Iteration 1, Delta Gamma = inf\n",
      "Iteration 2, Delta Gamma = 0.04562150804439216\n",
      "Iteration 3, Delta Gamma = 0.04846251080266142\n",
      "Iteration 4, Delta Gamma = 0.05261327520621401\n",
      "Iteration 5, Delta Gamma = 0.058070423364323824\n",
      "Iteration 6, Delta Gamma = 0.06495961380507033\n",
      "Iteration 7, Delta Gamma = 0.07349271877618255\n",
      "Iteration 8, Delta Gamma = 0.08395050557190564\n",
      "Iteration 9, Delta Gamma = 0.0966775787399271\n",
      "Iteration 10, Delta Gamma = 0.11208407796266077\n",
      "Iteration 11, Delta Gamma = 0.13065081497116196\n",
      "Iteration 12, Delta Gamma = 0.15293323552689791\n",
      "Iteration 13, Delta Gamma = 0.17955355629076167\n",
      "Iteration 14, Delta Gamma = 0.2111563436105005\n",
      "Iteration 15, Delta Gamma = 0.24827729152007688\n",
      "Iteration 16, Delta Gamma = 0.29104160025234455\n",
      "Iteration 17, Delta Gamma = 0.33859389554914476\n",
      "Iteration 18, Delta Gamma = 0.38823704778309215\n",
      "Iteration 19, Delta Gamma = 0.43453081927449044\n",
      "Iteration 20, Delta Gamma = 0.4691031970009005\n",
      "Iteration 21, Delta Gamma = 0.4823231416594282\n",
      "Iteration 22, Delta Gamma = 0.467396224703963\n",
      "Iteration 23, Delta Gamma = 0.42529021758506613\n",
      "Iteration 24, Delta Gamma = 0.3667626833206398\n",
      "Iteration 25, Delta Gamma = 0.3088565366813958\n",
      "Iteration 26, Delta Gamma = 0.26731971403948984\n",
      "Iteration 27, Delta Gamma = 0.24917435300160062\n",
      "Iteration 28, Delta Gamma = 0.2507650730182497\n",
      "Iteration 29, Delta Gamma = 0.26333183256112597\n",
      "Iteration 30, Delta Gamma = 0.2789454742976874\n",
      "Iteration 31, Delta Gamma = 0.29196699879794363\n",
      "Iteration 32, Delta Gamma = 0.29855386725758604\n",
      "Iteration 33, Delta Gamma = 0.2964489440846458\n",
      "Iteration 34, Delta Gamma = 0.28520736726112234\n",
      "Iteration 35, Delta Gamma = 0.2663203679830293\n",
      "Iteration 36, Delta Gamma = 0.24278191367201252\n",
      "Iteration 37, Delta Gamma = 0.2180712649501255\n",
      "Iteration 38, Delta Gamma = 0.19498517633611526\n",
      "Iteration 39, Delta Gamma = 0.17491385010403715\n",
      "Iteration 40, Delta Gamma = 0.1578773812208373\n",
      "Iteration 41, Delta Gamma = 0.14312518465543073\n",
      "Iteration 42, Delta Gamma = 0.1297978392157973\n",
      "Iteration 43, Delta Gamma = 0.11730031773440341\n",
      "Iteration 44, Delta Gamma = 0.10536730664915019\n",
      "Iteration 45, Delta Gamma = 0.09396983576253376\n",
      "Iteration 46, Delta Gamma = 0.08319423916072032\n",
      "Iteration 47, Delta Gamma = 0.07315252158857397\n",
      "Iteration 48, Delta Gamma = 0.06393365542785431\n",
      "Iteration 49, Delta Gamma = 0.055585683394676115\n",
      "Iteration 50, Delta Gamma = 0.04811562939219218\n",
      "Iteration 51, Delta Gamma = 0.0414973784650483\n",
      "Iteration 52, Delta Gamma = 0.0356816425316303\n",
      "Iteration 53, Delta Gamma = 0.03060512027166102\n",
      "Iteration 54, Delta Gamma = 0.026197779241893485\n",
      "Iteration 55, Delta Gamma = 0.02238812752668216\n",
      "Iteration 56, Delta Gamma = 0.019106742831895944\n",
      "Iteration 57, Delta Gamma = 0.016288442376516686\n",
      "Iteration 58, Delta Gamma = 0.01387346185203796\n",
      "Iteration 59, Delta Gamma = 0.011807948883839889\n",
      "Iteration 60, Delta Gamma = 0.010044005219950658\n",
      "Iteration 61, Delta Gamma = 0.008539448395499902\n",
      "Iteration 62, Delta Gamma = 0.007257412672444328\n",
      "Iteration 63, Delta Gamma = 0.006165870512832301\n",
      "Iteration 64, Delta Gamma = 0.005237127805381502\n",
      "Iteration 65, Delta Gamma = 0.004447326258629771\n",
      "Iteration 66, Delta Gamma = 0.0037759727299340293\n",
      "Iteration 67, Delta Gamma = 0.003205506087412182\n",
      "Iteration 68, Delta Gamma = 0.002720906198703936\n",
      "Iteration 69, Delta Gamma = 0.0023093458387756483\n",
      "Iteration 70, Delta Gamma = 0.0019598840090063936\n",
      "Iteration 71, Delta Gamma = 0.001663197864433939\n",
      "Iteration 72, Delta Gamma = 0.0014113498092472748\n",
      "Iteration 73, Delta Gamma = 0.001197586103682818\n",
      "Iteration 74, Delta Gamma = 0.001016163367146367\n",
      "Iteration 75, Delta Gamma = 0.0008621995546712005\n",
      "Iteration 76, Delta Gamma = 0.0007315462559017015\n",
      "Iteration 77, Delta Gamma = 0.0006206794723510646\n",
      "Iteration 78, Delta Gamma = 0.000526606341068794\n",
      "Iteration 79, Delta Gamma = 0.00044678557433286035\n",
      "Iteration 80, Delta Gamma = 0.000379059665939371\n",
      "Iteration 81, Delta Gamma = 0.00032159717043374434\n",
      "Iteration 82, Delta Gamma = 0.0002728435909196697\n",
      "Iteration 83, Delta Gamma = 0.0002314796138313834\n",
      "Iteration 84, Delta Gamma = 0.0001963856071168444\n",
      "Iteration 85, Delta Gamma = 0.00016661145322666949\n",
      "Iteration 86, Delta Gamma = 0.0001413509227179774\n",
      "Iteration 87, Delta Gamma = 0.00011991991020492795\n",
      "Iteration 88, Delta Gamma = 0.00010173795409833818\n",
      "Iteration 89, Delta Gamma = 8.631254721759121e-05\n",
      "Iteration 90, Delta Gamma = 7.322581845220714e-05\n",
      "Iteration 91, Delta Gamma = 6.212322842847477e-05\n",
      "Iteration 92, Delta Gamma = 5.2703975406415645e-05\n",
      "Iteration 93, Delta Gamma = 4.471285325901389e-05\n",
      "Iteration 94, Delta Gamma = 3.793334218123199e-05\n",
      "Iteration 95, Delta Gamma = 3.218174574145592e-05\n",
      "Iteration 96, Delta Gamma = 2.7302216020806874e-05\n",
      "Iteration 97, Delta Gamma = 2.3162532472498002e-05\n",
      "Iteration 98, Delta Gamma = 1.9650520376435945e-05\n",
      "Iteration 99, Delta Gamma = 1.667101204412679e-05\n",
      "Iteration 100, Delta Gamma = 1.4143268595522793e-05\n",
      "Iteration 101, Delta Gamma = 1.1998792502774425e-05\n",
      "Iteration 102, Delta Gamma = 1.017947171422278e-05\n",
      "Iteration 103, Delta Gamma = 8.63600510103123e-06\n",
      "Iteration 104, Delta Gamma = 7.326566610755204e-06\n",
      "Iteration 105, Delta Gamma = 6.215671929801623e-06\n",
      "Iteration 106, Delta Gamma = 5.273216959730665e-06\n",
      "Iteration 107, Delta Gamma = 4.473662079843214e-06\n",
      "Iteration 108, Delta Gamma = 3.7953400735353328e-06\n",
      "Iteration 109, Delta Gamma = 3.2198689957488823e-06\n",
      "Iteration 110, Delta Gamma = 2.731654054221468e-06\n",
      "Iteration 111, Delta Gamma = 2.3174650063166617e-06\n",
      "Iteration 112, Delta Gamma = 1.9660776459407015e-06\n",
      "Iteration 113, Delta Gamma = 1.6679696352920299e-06\n",
      "Iteration 114, Delta Gamma = 1.4150624621388905e-06\n",
      "Iteration 115, Delta Gamma = 1.2005025238548556e-06\n",
      "Iteration 116, Delta Gamma = 1.0184753967272741e-06\n",
      "Iteration 117, Delta Gamma = 8.640482690521533e-07\n",
      "Iteration 118, Delta Gamma = 7.330362723472381e-07\n",
      "Iteration 119, Delta Gamma = 6.21889071282525e-07\n",
      "Iteration 120, Delta Gamma = 5.275946495073471e-07\n",
      "Iteration 121, Delta Gamma = 4.475976943007868e-07\n",
      "Iteration 122, Delta Gamma = 3.7973034038626994e-07\n",
      "Iteration 123, Delta Gamma = 3.2215342752821594e-07\n",
      "Iteration 124, Delta Gamma = 2.7330665912687834e-07\n",
      "Iteration 125, Delta Gamma = 2.3186631992992734e-07\n",
      "Iteration 126, Delta Gamma = 1.967094049280643e-07\n",
      "Iteration 127, Delta Gamma = 1.6688318653712962e-07\n",
      "Iteration 128, Delta Gamma = 1.4157938985751562e-07\n",
      "Iteration 129, Delta Gamma = 1.2011230373233063e-07\n",
      "Iteration 130, Delta Gamma = 1.019001807466946e-07\n",
      "Iteration 131, Delta Gamma = 8.64494848857443e-08\n",
      "Iteration 132, Delta Gamma = 7.334151463818068e-08\n",
      "Iteration 133, Delta Gamma = 6.222104903651483e-08\n",
      "Iteration 134, Delta Gamma = 5.278673256503946e-08\n",
      "Iteration 135, Delta Gamma = 4.478290203397832e-08\n",
      "Iteration 136, Delta Gamma = 3.799266040755138e-08\n",
      "Iteration 137, Delta Gamma = 3.223199394223779e-08\n",
      "Iteration 138, Delta Gamma = 2.7344791479975035e-08\n",
      "Iteration 139, Delta Gamma = 2.3198615061787653e-08\n",
      "Iteration 140, Delta Gamma = 1.9681105571450308e-08\n",
      "Iteration 141, Delta Gamma = 1.6696944328300765e-08\n",
      "Iteration 142, Delta Gamma = 1.4165257527613098e-08\n",
      "Iteration 143, Delta Gamma = 1.2017439132655058e-08\n",
      "Iteration 144, Delta Gamma = 1.0195285308470807e-08\n",
      "Iteration 145, Delta Gamma = 8.649416986847885e-09\n",
      "Iteration 146, Delta Gamma = 7.337942285425026e-09\n",
      "Iteration 147, Delta Gamma = 6.225321211858174e-09\n",
      "Iteration 148, Delta Gamma = 5.281400765389227e-09\n",
      "Iteration 149, Delta Gamma = 4.480606451898569e-09\n",
      "Iteration 150, Delta Gamma = 3.801230070848723e-09\n",
      "Iteration 151, Delta Gamma = 3.2248653526953056e-09\n",
      "Iteration 152, Delta Gamma = 2.7358932859543375e-09\n",
      "Iteration 153, Delta Gamma = 2.321061357563986e-09\n",
      "Iteration 154, Delta Gamma = 1.969126892990666e-09\n",
      "Iteration 155, Delta Gamma = 1.6705567847427075e-09\n",
      "Iteration 156, Delta Gamma = 1.4172578645239936e-09\n",
      "Iteration 157, Delta Gamma = 1.2023641040865142e-09\n",
      "Iteration 158, Delta Gamma = 1.0200563064983435e-09\n"
     ]
    }
   ],
   "source": [
    "lda.e_step()"
   ]
  },
  {
   "cell_type": "code",
   "execution_count": 173,
   "metadata": {},
   "outputs": [
    {
     "data": {
      "text/plain": [
       "1"
      ]
     },
     "execution_count": 173,
     "metadata": {},
     "output_type": "execute_result"
    }
   ],
   "source": [
    "round(tr.sum(tr.tensor([0.3333,0.3333,0.3333])).item())"
   ]
  },
  {
   "cell_type": "code",
   "execution_count": 101,
   "metadata": {},
   "outputs": [],
   "source": [
    "lda._phi_[:][2][-1] = [1,1,1]"
   ]
  },
  {
   "cell_type": "code",
   "execution_count": 102,
   "metadata": {},
   "outputs": [
    {
     "data": {
      "text/plain": [
       "array([array([[0.33333333, 0.33333333, 0.33333333],\n",
       "              [0.33333333, 0.33333333, 0.33333333],\n",
       "              [0.33333333, 0.33333333, 0.33333333],\n",
       "              [0.33333333, 0.33333333, 0.33333333],\n",
       "              [0.33333333, 0.33333333, 0.33333333],\n",
       "              [0.33333333, 0.33333333, 0.33333333]]),\n",
       "       array([[0.33333333, 0.33333333, 0.33333333],\n",
       "              [0.33333333, 0.33333333, 0.33333333],\n",
       "              [0.33333333, 0.33333333, 0.33333333],\n",
       "              [0.33333333, 0.33333333, 0.33333333],\n",
       "              [0.33333333, 0.33333333, 0.33333333]]),\n",
       "       array([[0.33333333, 0.33333333, 0.33333333],\n",
       "              [0.33333333, 0.33333333, 0.33333333],\n",
       "              [0.33333333, 0.33333333, 0.33333333],\n",
       "              [0.33333333, 0.33333333, 0.33333333],\n",
       "              [0.33333333, 0.33333333, 0.33333333],\n",
       "              [0.33333333, 0.33333333, 0.33333333],\n",
       "              [0.33333333, 0.33333333, 0.33333333],\n",
       "              [1.        , 1.        , 1.        ]]),\n",
       "       array([[0.33333333, 0.33333333, 0.33333333],\n",
       "              [0.33333333, 0.33333333, 0.33333333],\n",
       "              [0.33333333, 0.33333333, 0.33333333],\n",
       "              [0.33333333, 0.33333333, 0.33333333],\n",
       "              [0.33333333, 0.33333333, 0.33333333]])], dtype=object)"
      ]
     },
     "execution_count": 102,
     "metadata": {},
     "output_type": "execute_result"
    }
   ],
   "source": [
    "lda._phi_"
   ]
  },
  {
   "cell_type": "code",
   "execution_count": 104,
   "metadata": {},
   "outputs": [
    {
     "data": {
      "text/plain": [
       "dtype('float64')"
      ]
     },
     "execution_count": 104,
     "metadata": {},
     "output_type": "execute_result"
    }
   ],
   "source": [
    "lda._phi_[:][2][-1].dtype"
   ]
  },
  {
   "cell_type": "code",
   "execution_count": 115,
   "metadata": {},
   "outputs": [],
   "source": [
    "x = tr.tensor(lda._phi_[:][2][-1])\n",
    "x1 = x.clone()"
   ]
  },
  {
   "cell_type": "code",
   "execution_count": 116,
   "metadata": {},
   "outputs": [],
   "source": [
    "x1[1]= 1e8"
   ]
  },
  {
   "cell_type": "code",
   "execution_count": 117,
   "metadata": {},
   "outputs": [
    {
     "data": {
      "text/plain": [
       "tensor([1.0000e+00, 1.0000e+08, 1.0000e+00], dtype=torch.float64)"
      ]
     },
     "execution_count": 117,
     "metadata": {},
     "output_type": "execute_result"
    }
   ],
   "source": [
    "x1 "
   ]
  },
  {
   "cell_type": "code",
   "execution_count": 118,
   "metadata": {},
   "outputs": [
    {
     "data": {
      "text/plain": [
       "tensor([1., 1., 1.], dtype=torch.float64)"
      ]
     },
     "execution_count": 118,
     "metadata": {},
     "output_type": "execute_result"
    }
   ],
   "source": [
    "x"
   ]
  },
  {
   "cell_type": "code",
   "execution_count": null,
   "metadata": {},
   "outputs": [],
   "source": []
  }
 ],
 "metadata": {
  "kernelspec": {
   "display_name": ".venv",
   "language": "python",
   "name": "python3"
  },
  "language_info": {
   "codemirror_mode": {
    "name": "ipython",
    "version": 3
   },
   "file_extension": ".py",
   "mimetype": "text/x-python",
   "name": "python",
   "nbconvert_exporter": "python",
   "pygments_lexer": "ipython3",
   "version": "3.8.9"
  },
  "orig_nbformat": 4
 },
 "nbformat": 4,
 "nbformat_minor": 2
}
