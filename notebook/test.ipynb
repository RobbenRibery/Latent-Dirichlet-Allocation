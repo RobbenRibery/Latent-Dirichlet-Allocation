{
 "cells": [
  {
   "cell_type": "code",
   "execution_count": 60,
   "metadata": {},
   "outputs": [
    {
     "name": "stdout",
     "output_type": "stream",
     "text": [
      "The autoreload extension is already loaded. To reload it, use:\n",
      "  %reload_ext autoreload\n"
     ]
    }
   ],
   "source": [
    "%load_ext autoreload\n",
    "%autoreload 2\n",
    "import sys \n",
    "if '/Users/ericliu/Desktop/Latent-Dirichilet-Allocation' not in sys.path: \n",
    "    sys.path.append('/Users/ericliu/Desktop/Latent-Dirichilet-Allocation')\n",
    "\n",
    "import torch as tr \n",
    "import numpy as np \n",
    "\n",
    "from src.utils import expec_log_dirichlet, expec_log_dirichlet_mirror"
   ]
  },
  {
   "cell_type": "code",
   "execution_count": 66,
   "metadata": {},
   "outputs": [
    {
     "name": "stdout",
     "output_type": "stream",
     "text": [
      "Overwriting ../test/test_func_expec_log_dirichlet.py\n"
     ]
    }
   ],
   "source": [
    "%%writefile ../test/test_func_expec_log_dirichlet.py \n",
    "import torch as tr \n",
    "import numpy as np \n",
    "\n",
    "from src.utils import expec_log_dirichlet, expec_log_dirichlet_mirror\n",
    "tensor1 = tr.tensor([[1,1,1]], dtype=float)\n",
    "tensor2 = tr.tensor([1,1,1], dtype=float)\n",
    "tensor3 = tr.tensor([4,5,6], dtype=float)\n",
    "tensor4 = tr.tensor([[0.9,1,0.2]], dtype=float)\n",
    "# print(tensor.ndim)\n",
    "# print(tr.sum(tensor))\n",
    "for tensor in [tensor1, tensor2, tensor3, tensor4]:\n",
    "    print(tensor)\n",
    "    exp_dirichlet_var_ = expec_log_dirichlet(tensor)\n",
    "    print(exp_dirichlet_var_)\n",
    "\n",
    "    exp_dirichlet_var = expec_log_dirichlet_mirror(tensor.numpy())\n",
    "    print(exp_dirichlet_var)\n",
    "    #print(type(exp_dirichlet_var))\n",
    "    #print(exp_dirichlet_var.shape)\n",
    "\n",
    "    assert (\n",
    "        np.round(exp_dirichlet_var_.numpy(),2) == np.round(exp_dirichlet_var,2)\n",
    "    ).any(), \\\n",
    "        print(\n",
    "        np.round(exp_dirichlet_var_.numpy(),2), \n",
    "        np.round(exp_dirichlet_var,2)\n",
    "    )\n",
    "    print()"
   ]
  },
  {
   "cell_type": "code",
   "execution_count": 58,
   "metadata": {},
   "outputs": [
    {
     "data": {
      "text/plain": [
       "array([[-1.24, -1.06, -5.77]])"
      ]
     },
     "execution_count": 58,
     "metadata": {},
     "output_type": "execute_result"
    }
   ],
   "source": [
    "np.round(exp_dirichlet_var_.numpy(),2)"
   ]
  },
  {
   "cell_type": "code",
   "execution_count": 55,
   "metadata": {},
   "outputs": [
    {
     "data": {
      "text/plain": [
       "array([-1.42, -1.17, -0.97])"
      ]
     },
     "execution_count": 55,
     "metadata": {},
     "output_type": "execute_result"
    }
   ],
   "source": [
    "np.round(exp_dirichlet_var,2) \n"
   ]
  },
  {
   "cell_type": "code",
   "execution_count": 26,
   "metadata": {},
   "outputs": [
    {
     "data": {
      "text/plain": [
       "[-1.5, -1.5, -1.5]"
      ]
     },
     "execution_count": 26,
     "metadata": {},
     "output_type": "execute_result"
    }
   ],
   "source": [
    "exp_dirichlet_var.tolist()"
   ]
  },
  {
   "cell_type": "code",
   "execution_count": null,
   "metadata": {},
   "outputs": [],
   "source": []
  }
 ],
 "metadata": {
  "kernelspec": {
   "display_name": ".venv",
   "language": "python",
   "name": "python3"
  },
  "language_info": {
   "codemirror_mode": {
    "name": "ipython",
    "version": 3
   },
   "file_extension": ".py",
   "mimetype": "text/x-python",
   "name": "python",
   "nbconvert_exporter": "python",
   "pygments_lexer": "ipython3",
   "version": "3.8.9"
  },
  "orig_nbformat": 4,
  "vscode": {
   "interpreter": {
    "hash": "e026e684521c612822fbb31521a7b705da4f7f2b939b93351f3c885564d078c6"
   }
  }
 },
 "nbformat": 4,
 "nbformat_minor": 2
}
